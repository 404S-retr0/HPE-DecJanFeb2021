{
  "nbformat": 4,
  "nbformat_minor": 0,
  "metadata": {
    "colab": {
      "name": "HPE 05- part 2 sentiment analysis with regulartion.ipynb",
      "provenance": [],
      "collapsed_sections": [],
      "authorship_tag": "ABX9TyMeDR7d6EFRfTgNs/R0SmSM"
    },
    "kernelspec": {
      "name": "python3",
      "display_name": "Python 3"
    }
  },
  "cells": [
    {
      "cell_type": "code",
      "metadata": {
        "colab": {
          "base_uri": "https://localhost:8080/"
        },
        "id": "3hKNlZH4KxNJ",
        "outputId": "48f1e70e-46a4-470b-c4de-ee41c16dc2c9"
      },
      "source": [
        "# NLP\r\n",
        "%tensorflow_version 1.x\r\n",
        "import tensorflow as tf\r\n",
        "import numpy as np\r\n",
        "print(tf.__version__)"
      ],
      "execution_count": 40,
      "outputs": [
        {
          "output_type": "stream",
          "text": [
            "1.15.2\n"
          ],
          "name": "stdout"
        }
      ]
    },
    {
      "cell_type": "code",
      "metadata": {
        "colab": {
          "base_uri": "https://localhost:8080/"
        },
        "id": "Vx2D6Pv_RGij",
        "outputId": "4a45f34a-9421-45a5-dede-55d8efa73e5d"
      },
      "source": [
        "from tensorflow import keras\r\n",
        "imdb = keras.datasets.imdb \r\n",
        "HP_dict_size = 10000 # USAGE -> FREQUENCY of usage \r\n",
        "(xtrain, ytrain),(xtest, ytest) = imdb.load_data(num_words=HP_dict_size)\r\n"
      ],
      "execution_count": 41,
      "outputs": [
        {
          "output_type": "stream",
          "text": [
            "/tensorflow-1.15.2/python3.6/tensorflow_core/python/keras/datasets/imdb.py:129: VisibleDeprecationWarning: Creating an ndarray from ragged nested sequences (which is a list-or-tuple of lists-or-tuples-or ndarrays with different lengths or shapes) is deprecated. If you meant to do this, you must specify 'dtype=object' when creating the ndarray\n",
            "  x_train, y_train = np.array(xs[:idx]), np.array(labels[:idx])\n",
            "/tensorflow-1.15.2/python3.6/tensorflow_core/python/keras/datasets/imdb.py:130: VisibleDeprecationWarning: Creating an ndarray from ragged nested sequences (which is a list-or-tuple of lists-or-tuples-or ndarrays with different lengths or shapes) is deprecated. If you meant to do this, you must specify 'dtype=object' when creating the ndarray\n",
            "  x_test, y_test = np.array(xs[idx:]), np.array(labels[idx:])\n"
          ],
          "name": "stderr"
        }
      ]
    },
    {
      "cell_type": "code",
      "metadata": {
        "colab": {
          "base_uri": "https://localhost:8080/"
        },
        "id": "FI8QKXfQZSvB",
        "outputId": "df483459-4a1e-4ca6-8b04-10197b90eb81"
      },
      "source": [
        "print(ytrain[:10])"
      ],
      "execution_count": 42,
      "outputs": [
        {
          "output_type": "stream",
          "text": [
            "[1 0 0 1 0 0 1 0 1 0]\n"
          ],
          "name": "stdout"
        }
      ]
    },
    {
      "cell_type": "code",
      "metadata": {
        "colab": {
          "base_uri": "https://localhost:8080/"
        },
        "id": "lC6nrWvXZd4c",
        "outputId": "be9a4a58-d637-4abf-9bf1-c5220eae4f22"
      },
      "source": [
        "wordIndex = imdb.get_word_index()\r\n",
        "print(wordIndex['the'])"
      ],
      "execution_count": 43,
      "outputs": [
        {
          "output_type": "stream",
          "text": [
            "1\n"
          ],
          "name": "stdout"
        }
      ]
    },
    {
      "cell_type": "code",
      "metadata": {
        "colab": {
          "base_uri": "https://localhost:8080/"
        },
        "id": "Ww3-UtMFZ4rn",
        "outputId": "88ed52fd-83a0-49a3-8f47-ed00f23f469c"
      },
      "source": [
        "print(ytrain[1])\r\n",
        "print(xtrain[1])"
      ],
      "execution_count": 44,
      "outputs": [
        {
          "output_type": "stream",
          "text": [
            "0\n",
            "[1, 194, 1153, 194, 8255, 78, 228, 5, 6, 1463, 4369, 5012, 134, 26, 4, 715, 8, 118, 1634, 14, 394, 20, 13, 119, 954, 189, 102, 5, 207, 110, 3103, 21, 14, 69, 188, 8, 30, 23, 7, 4, 249, 126, 93, 4, 114, 9, 2300, 1523, 5, 647, 4, 116, 9, 35, 8163, 4, 229, 9, 340, 1322, 4, 118, 9, 4, 130, 4901, 19, 4, 1002, 5, 89, 29, 952, 46, 37, 4, 455, 9, 45, 43, 38, 1543, 1905, 398, 4, 1649, 26, 6853, 5, 163, 11, 3215, 2, 4, 1153, 9, 194, 775, 7, 8255, 2, 349, 2637, 148, 605, 2, 8003, 15, 123, 125, 68, 2, 6853, 15, 349, 165, 4362, 98, 5, 4, 228, 9, 43, 2, 1157, 15, 299, 120, 5, 120, 174, 11, 220, 175, 136, 50, 9, 4373, 228, 8255, 5, 2, 656, 245, 2350, 5, 4, 9837, 131, 152, 491, 18, 2, 32, 7464, 1212, 14, 9, 6, 371, 78, 22, 625, 64, 1382, 9, 8, 168, 145, 23, 4, 1690, 15, 16, 4, 1355, 5, 28, 6, 52, 154, 462, 33, 89, 78, 285, 16, 145, 95]\n"
          ],
          "name": "stdout"
        }
      ]
    },
    {
      "cell_type": "code",
      "metadata": {
        "colab": {
          "base_uri": "https://localhost:8080/",
          "height": 35
        },
        "id": "n3m_52QDaMc_",
        "outputId": "ae77aa57-fa2d-41c6-b6f9-91404c8f4230"
      },
      "source": [
        "dictionary = { encoding:word for word,encoding in wordIndex.items() }\r\n",
        "dictionary[42]"
      ],
      "execution_count": 45,
      "outputs": [
        {
          "output_type": "execute_result",
          "data": {
            "application/vnd.google.colaboratory.intrinsic+json": {
              "type": "string"
            },
            "text/plain": [
              "\"it's\""
            ]
          },
          "metadata": {
            "tags": []
          },
          "execution_count": 45
        }
      ]
    },
    {
      "cell_type": "code",
      "metadata": {
        "id": "tApIm0uabpAM"
      },
      "source": [
        "# dictionary[0] # word * 0 = 0 \r\n",
        "# NLP-> RULES \r\n",
        "# <PAD> -> 0 \r\n",
        "# <START> -> 1\r\n",
        "# <UNK> -> 2 UNKNOWN-> anything else \r\n",
        "# <UNUSED> -> 3\r\n",
        "\r\n",
        "word_index = { word:(encoding + 3) for word,encoding in wordIndex.items()}\r\n",
        "word_index['<PAD>'] = 0\r\n",
        "word_index['<START>'] = 1\r\n",
        "word_index['<UNK>'] = 2\r\n",
        "word_index['<UNUSED>'] = 3\r\n",
        "\r\n",
        "def decoder(review):\r\n",
        "  decoded_review = [ dictionary.get(word) for word in review ]\r\n",
        "  sentence = ' '.join(decoded_review)\r\n",
        "  return sentence\r\n",
        "\r\n"
      ],
      "execution_count": 46,
      "outputs": []
    },
    {
      "cell_type": "code",
      "metadata": {
        "colab": {
          "base_uri": "https://localhost:8080/",
          "height": 191
        },
        "id": "LaAf4Olmb1WR",
        "outputId": "421180a6-93b8-4d43-d207-261dcaf5017f"
      },
      "source": [
        "word_index = { word:(encoding + 3) for word,encoding in wordIndex.items()}\r\n",
        "word_index['<PAD>'] = 0\r\n",
        "word_index['<START>'] = 1\r\n",
        "word_index['<UNK>'] = 2\r\n",
        "word_index['<UNUSED>'] = 3\r\n",
        "dictionary = { encoding:word for word,encoding in word_index.items() }\r\n",
        "def decoder(review):\r\n",
        "  decoded_review = [ dictionary.get(word) for word in review ]\r\n",
        "  sentence = ' '.join(decoded_review)\r\n",
        "  return sentence\r\n",
        "print(ytrain[2])\r\n",
        "decoder(xtrain[2])"
      ],
      "execution_count": 47,
      "outputs": [
        {
          "output_type": "stream",
          "text": [
            "0\n"
          ],
          "name": "stdout"
        },
        {
          "output_type": "execute_result",
          "data": {
            "application/vnd.google.colaboratory.intrinsic+json": {
              "type": "string"
            },
            "text/plain": [
              "\"<START> this has to be one of the worst films of the 1990s when my friends i were watching this film being the target audience it was aimed at we just sat watched the first half an hour with our jaws touching the floor at how bad it really was the rest of the time everyone else in the theatre just started talking to each other leaving or generally crying into their popcorn that they actually paid money they had <UNK> working to watch this feeble excuse for a film it must have looked like a great idea on paper but on film it looks like no one in the film has a clue what is going on crap acting crap costumes i can't get across how <UNK> this is to watch save yourself an hour a bit of your life\""
            ]
          },
          "metadata": {
            "tags": []
          },
          "execution_count": 47
        }
      ]
    },
    {
      "cell_type": "code",
      "metadata": {
        "colab": {
          "base_uri": "https://localhost:8080/",
          "height": 157
        },
        "id": "fS-1QiqZeMjv",
        "outputId": "c5d96f09-0005-4ce8-ae87-181f59cf2dfa"
      },
      "source": [
        "print(ytrain[12])\r\n",
        "decoder(xtrain[12])"
      ],
      "execution_count": 48,
      "outputs": [
        {
          "output_type": "stream",
          "text": [
            "0\n"
          ],
          "name": "stdout"
        },
        {
          "output_type": "execute_result",
          "data": {
            "application/vnd.google.colaboratory.intrinsic+json": {
              "type": "string"
            },
            "text/plain": [
              "\"<START> i love cheesy horror flicks i don't care if the acting is sub par or whether the monsters look corny i liked this movie except for the <UNK> feeling all the way from the beginning of the film to the very end look i don't need a 10 page <UNK> or a sign with big letters explaining a plot to me but dark floors takes the what is this movie about thing to a whole new annoying level what is this movie about br br this isn't exceptionally scary or thrilling but if you have an hour and a half to kill and or you want to end up feeling frustrated and confused rent this winner\""
            ]
          },
          "metadata": {
            "tags": []
          },
          "execution_count": 48
        }
      ]
    },
    {
      "cell_type": "code",
      "metadata": {
        "colab": {
          "base_uri": "https://localhost:8080/"
        },
        "id": "kb-aaft0efnf",
        "outputId": "803f7d89-23b4-4822-d2a8-2bcd5a3fd9ef"
      },
      "source": [
        "lengths = []\r\n",
        "for x in range(20):\r\n",
        "  lengths.append(len(xtrain[x]))\r\n",
        "print(lengths)\r\n",
        "# INPUT size is NOT of the same SIZE!!!"
      ],
      "execution_count": 49,
      "outputs": [
        {
          "output_type": "stream",
          "text": [
            "[218, 189, 141, 550, 147, 43, 123, 562, 233, 130, 450, 99, 117, 238, 109, 129, 163, 752, 212, 177]\n"
          ],
          "name": "stdout"
        }
      ]
    },
    {
      "cell_type": "code",
      "metadata": {
        "id": "QXhcrHrigqcb"
      },
      "source": [
        "# PAD> added. \r\n",
        "# y = mx + c = important word * their weights + empty space*0 + bias \r\n",
        "# y = w1*and + w2* pikachu + w3*run ....   w200*<PAD>= w200*0=0\r\n",
        "xtrain_padded = keras.preprocessing.sequence.pad_sequences(xtrain, value=0, \r\n",
        "                                                           padding='post', \r\n",
        "                                                           truncating='post',\r\n",
        "                                                           maxlen=256)\r\n",
        "xtest_padded = keras.preprocessing.sequence.pad_sequences(xtest, value=0, \r\n",
        "                                                           padding='post', \r\n",
        "                                                           truncating='post',\r\n",
        "                                                           maxlen=256)\r\n"
      ],
      "execution_count": 50,
      "outputs": []
    },
    {
      "cell_type": "code",
      "metadata": {
        "colab": {
          "base_uri": "https://localhost:8080/",
          "height": 226
        },
        "id": "FoKkbJj8h4o8",
        "outputId": "c27f3e79-12d4-4750-c930-c87ba7fd2336"
      },
      "source": [
        "decoder(xtrain_padded[2])"
      ],
      "execution_count": 51,
      "outputs": [
        {
          "output_type": "execute_result",
          "data": {
            "application/vnd.google.colaboratory.intrinsic+json": {
              "type": "string"
            },
            "text/plain": [
              "\"<START> this has to be one of the worst films of the 1990s when my friends i were watching this film being the target audience it was aimed at we just sat watched the first half an hour with our jaws touching the floor at how bad it really was the rest of the time everyone else in the theatre just started talking to each other leaving or generally crying into their popcorn that they actually paid money they had <UNK> working to watch this feeble excuse for a film it must have looked like a great idea on paper but on film it looks like no one in the film has a clue what is going on crap acting crap costumes i can't get across how <UNK> this is to watch save yourself an hour a bit of your life <PAD> <PAD> <PAD> <PAD> <PAD> <PAD> <PAD> <PAD> <PAD> <PAD> <PAD> <PAD> <PAD> <PAD> <PAD> <PAD> <PAD> <PAD> <PAD> <PAD> <PAD> <PAD> <PAD> <PAD> <PAD> <PAD> <PAD> <PAD> <PAD> <PAD> <PAD> <PAD> <PAD> <PAD> <PAD> <PAD> <PAD> <PAD> <PAD> <PAD> <PAD> <PAD> <PAD> <PAD> <PAD> <PAD> <PAD> <PAD> <PAD> <PAD> <PAD> <PAD> <PAD> <PAD> <PAD> <PAD> <PAD> <PAD> <PAD> <PAD> <PAD> <PAD> <PAD> <PAD> <PAD> <PAD> <PAD> <PAD> <PAD> <PAD> <PAD> <PAD> <PAD> <PAD> <PAD> <PAD> <PAD> <PAD> <PAD> <PAD> <PAD> <PAD> <PAD> <PAD> <PAD> <PAD> <PAD> <PAD> <PAD> <PAD> <PAD> <PAD> <PAD> <PAD> <PAD> <PAD> <PAD> <PAD> <PAD> <PAD> <PAD> <PAD> <PAD> <PAD> <PAD> <PAD> <PAD> <PAD> <PAD> <PAD> <PAD> <PAD> <PAD> <PAD> <PAD>\""
            ]
          },
          "metadata": {
            "tags": []
          },
          "execution_count": 51
        }
      ]
    },
    {
      "cell_type": "code",
      "metadata": {
        "colab": {
          "base_uri": "https://localhost:8080/"
        },
        "id": "1jfgtCLCh9qv",
        "outputId": "e8db8ab6-50f5-4707-c8b3-090b014b6ae5"
      },
      "source": [
        "xtrain_padded[2]"
      ],
      "execution_count": 52,
      "outputs": [
        {
          "output_type": "execute_result",
          "data": {
            "text/plain": [
              "array([   1,   14,   47,    8,   30,   31,    7,    4,  249,  108,    7,\n",
              "          4, 5974,   54,   61,  369,   13,   71,  149,   14,   22,  112,\n",
              "          4, 2401,  311,   12,   16, 3711,   33,   75,   43, 1829,  296,\n",
              "          4,   86,  320,   35,  534,   19,  263, 4821, 1301,    4, 1873,\n",
              "         33,   89,   78,   12,   66,   16,    4,  360,    7,    4,   58,\n",
              "        316,  334,   11,    4, 1716,   43,  645,  662,    8,  257,   85,\n",
              "       1200,   42, 1228, 2578,   83,   68, 3912,   15,   36,  165, 1539,\n",
              "        278,   36,   69,    2,  780,    8,  106,   14, 6905, 1338,   18,\n",
              "          6,   22,   12,  215,   28,  610,   40,    6,   87,  326,   23,\n",
              "       2300,   21,   23,   22,   12,  272,   40,   57,   31,   11,    4,\n",
              "         22,   47,    6, 2307,   51,    9,  170,   23,  595,  116,  595,\n",
              "       1352,   13,  191,   79,  638,   89,    2,   14,    9,    8,  106,\n",
              "        607,  624,   35,  534,    6,  227,    7,  129,  113,    0,    0,\n",
              "          0,    0,    0,    0,    0,    0,    0,    0,    0,    0,    0,\n",
              "          0,    0,    0,    0,    0,    0,    0,    0,    0,    0,    0,\n",
              "          0,    0,    0,    0,    0,    0,    0,    0,    0,    0,    0,\n",
              "          0,    0,    0,    0,    0,    0,    0,    0,    0,    0,    0,\n",
              "          0,    0,    0,    0,    0,    0,    0,    0,    0,    0,    0,\n",
              "          0,    0,    0,    0,    0,    0,    0,    0,    0,    0,    0,\n",
              "          0,    0,    0,    0,    0,    0,    0,    0,    0,    0,    0,\n",
              "          0,    0,    0,    0,    0,    0,    0,    0,    0,    0,    0,\n",
              "          0,    0,    0,    0,    0,    0,    0,    0,    0,    0,    0,\n",
              "          0,    0,    0,    0,    0,    0,    0,    0,    0,    0,    0,\n",
              "          0,    0,    0], dtype=int32)"
            ]
          },
          "metadata": {
            "tags": []
          },
          "execution_count": 52
        }
      ]
    },
    {
      "cell_type": "code",
      "metadata": {
        "colab": {
          "base_uri": "https://localhost:8080/",
          "height": 226
        },
        "id": "bM10p17niIJ3",
        "outputId": "4f8a2937-3260-45be-8e51-8184a9fbd164"
      },
      "source": [
        "decoder(xtrain_padded[7])"
      ],
      "execution_count": 53,
      "outputs": [
        {
          "output_type": "execute_result",
          "data": {
            "application/vnd.google.colaboratory.intrinsic+json": {
              "type": "string"
            },
            "text/plain": [
              "\"<START> the <UNK> tells the story of the four hamilton siblings teenager francis <UNK> <UNK> twins <UNK> joseph <UNK> <UNK> <UNK> <UNK> the <UNK> david samuel who is now the surrogate parent in charge the <UNK> move house a lot <UNK> is unsure why is unhappy with the way things are the fact that his brother's sister kidnap <UNK> murder people in the basement doesn't help relax or calm <UNK> nerves either francis <UNK> something just isn't right when he eventually finds out the truth things will never be the same again br br co written co produced directed by mitchell <UNK> phil <UNK> as the butcher brothers who's only other film director's credit so far is the april <UNK> day 2008 remake enough said this was one of the <UNK> to die <UNK> at the 2006 after dark <UNK> or whatever it's called in keeping with pretty much all the other's i've seen i thought the <UNK> was complete total utter crap i found the character's really poor very unlikable the slow moving story failed to capture my imagination or sustain my interest over it's 85 a half minute too long <UNK> minute duration the there's the awful twist at the end which had me laughing out loud there's this really big <UNK> build up to what's inside a <UNK> thing in the <UNK> basement it's eventually revealed to be a little boy with a teddy is that really supposed to scare us is that really supposed to shock us is that really something that\""
            ]
          },
          "metadata": {
            "tags": []
          },
          "execution_count": 53
        }
      ]
    },
    {
      "cell_type": "code",
      "metadata": {
        "id": "8ZIVDQ3ZiU-C"
      },
      "source": [
        "HP_dict_size = 10000\r\n",
        "HP_epochs = 30\r\n",
        "HP_embedded_dims = 16\r\n",
        "HP_maxlen = 256\r\n",
        "HP_val_size = 10000\r\n",
        "HP_batch_size = 128  # constant for models\r\n",
        "\r\n",
        "HP_dropout = 0.1\r\n",
        "\r\n",
        "\r\n"
      ],
      "execution_count": 87,
      "outputs": []
    },
    {
      "cell_type": "code",
      "metadata": {
        "id": "rZ10onydv7Zv"
      },
      "source": [
        "# Model 1 layers\r\n",
        "from tensorflow.keras import regularizers\r\n",
        "l1_m1 = keras.layers.Embedding(HP_dict_size, HP_embedded_dims)\r\n",
        "l2_m1 = keras.layers.GlobalAveragePooling1D()\r\n",
        "l3a_m1 = keras.layers.Dense(64)\r\n",
        "l3b_m1 = keras.layers.Dense(128, kernel_regularizer= regularizers.l1_l2(l1=1e-5, l2=1e-4))\r\n",
        "l5_m1 = keras.layers.Dropout(HP_dropout)\r\n",
        "l4_m1 = keras.layers.Dense(32, activation=tf.nn.relu)\r\n",
        "l6_m1 = keras.layers.Dense(1, activation=tf.nn.sigmoid)\r\n",
        "layers_m1 = [l1_m1,l2_m1,l3a_m1,l3b_m1,l4_m1,l5_m1,l6_m1]\r\n"
      ],
      "execution_count": 91,
      "outputs": []
    },
    {
      "cell_type": "code",
      "metadata": {
        "id": "xIenxu44w8_k"
      },
      "source": [
        "model= keras.Sequential(layers_m1)"
      ],
      "execution_count": 92,
      "outputs": []
    },
    {
      "cell_type": "code",
      "metadata": {
        "id": "fkQFCxD0xub0"
      },
      "source": [
        "model.compile(optimizer='adam', loss='binary_crossentropy', metrics=['acc'])\r\n"
      ],
      "execution_count": 93,
      "outputs": []
    },
    {
      "cell_type": "code",
      "metadata": {
        "colab": {
          "base_uri": "https://localhost:8080/"
        },
        "id": "roBn4edPyOMR",
        "outputId": "96f1e8e7-09b0-46ea-cbf3-06fbf7385014"
      },
      "source": [
        "model.summary()\r\n",
        "# i1v1 + i2v2 ... i160000v1600000\r\n",
        "# v-> dimensions\r\n",
        "# i -> weights\r\n",
        "\r\n",
        "# DENSE-> "
      ],
      "execution_count": 94,
      "outputs": [
        {
          "output_type": "stream",
          "text": [
            "Model: \"sequential_6\"\n",
            "_________________________________________________________________\n",
            "Layer (type)                 Output Shape              Param #   \n",
            "=================================================================\n",
            "embedding_7 (Embedding)      (None, None, 16)          160000    \n",
            "_________________________________________________________________\n",
            "global_average_pooling1d_7 ( (None, 16)                0         \n",
            "_________________________________________________________________\n",
            "dense_23 (Dense)             (None, 64)                1088      \n",
            "_________________________________________________________________\n",
            "dense_24 (Dense)             (None, 128)               8320      \n",
            "_________________________________________________________________\n",
            "dense_25 (Dense)             (None, 32)                4128      \n",
            "_________________________________________________________________\n",
            "dropout_5 (Dropout)          (None, 32)                0         \n",
            "_________________________________________________________________\n",
            "dense_26 (Dense)             (None, 1)                 33        \n",
            "=================================================================\n",
            "Total params: 173,569\n",
            "Trainable params: 173,569\n",
            "Non-trainable params: 0\n",
            "_________________________________________________________________\n"
          ],
          "name": "stdout"
        }
      ]
    },
    {
      "cell_type": "code",
      "metadata": {
        "id": "Ccm82hq20Wkm"
      },
      "source": [
        "\r\n",
        "xval = xtest_padded[:HP_val_size]\r\n",
        "yval = ytest[:HP_val_size]\r\n",
        "ytest_red = ytest[HP_val_size:]\r\n",
        "xtest_red = xtest_padded[HP_val_size:]\r\n"
      ],
      "execution_count": 95,
      "outputs": []
    },
    {
      "cell_type": "code",
      "metadata": {
        "id": "Fvve7aZX06PX"
      },
      "source": [
        "import time \r\n",
        "start_time= time.time()\r\n",
        "# Deep Learning here\r\n",
        "\r\n",
        "history_reg = model.fit(xtrain_padded, ytrain, epochs=HP_epochs,\r\n",
        "                 batch_size=HP_batch_size,\r\n",
        "                 validation_data=(xval,yval),\r\n",
        "                 verbose=0)\r\n",
        "\r\n",
        "# Deep Learning Ends\r\n",
        "end_time = time.time()\r\n",
        "time_taken = end_time - start_time"
      ],
      "execution_count": 96,
      "outputs": []
    },
    {
      "cell_type": "code",
      "metadata": {
        "colab": {
          "base_uri": "https://localhost:8080/"
        },
        "id": "cB8Ygw3UF5e5",
        "outputId": "49b8e3ec-e95f-4f22-bf8b-ad1aca94f276"
      },
      "source": [
        "print(time_taken)\n",
        "import matplotlib.pyplot as plt\n",
        "stats = history_reg.history\n",
        "val_acc = stats['val_acc']\n",
        "acc = stats['acc']\n",
        "val_loss = stats['val_loss']\n",
        "loss = stats['loss']\n",
        "epochs = range(1,HP_epochs+1)"
      ],
      "execution_count": 97,
      "outputs": [
        {
          "output_type": "stream",
          "text": [
            "58.230340003967285\n"
          ],
          "name": "stdout"
        }
      ]
    },
    {
      "cell_type": "code",
      "metadata": {
        "colab": {
          "base_uri": "https://localhost:8080/",
          "height": 265
        },
        "id": "W-FWDRcPGHLZ",
        "outputId": "33f0b8cc-3f30-41ba-a1f3-ccbcf98735a0"
      },
      "source": [
        "plt.figure()\n",
        "plt.plot(epochs, loss, 'bo', label='loss')\n",
        "plt.plot(epochs, val_loss, 'rx', label='val_loss')\n",
        "plt.legend()\n",
        "plt.show()"
      ],
      "execution_count": 98,
      "outputs": [
        {
          "output_type": "display_data",
          "data": {
            "image/png": "[encoded data removed]",
            "text/plain": [
              "<Figure size 432x288 with 1 Axes>"
            ]
          },
          "metadata": {
            "tags": [],
            "needs_background": "light"
          }
        }
      ]
    },
    {
      "cell_type": "code",
      "metadata": {
        "colab": {
          "base_uri": "https://localhost:8080/",
          "height": 265
        },
        "id": "ej9hK9uUGfVW",
        "outputId": "7e16786b-d50f-4759-b5fe-e51eac7e0149"
      },
      "source": [
        "plt.figure()\n",
        "plt.plot(epochs, acc, 'bo', label='acc')\n",
        "plt.plot(epochs, val_acc, 'rx', label='val_acc')\n",
        "plt.legend()\n",
        "plt.show()"
      ],
      "execution_count": 99,
      "outputs": [
        {
          "output_type": "display_data",
          "data": {
            "image/png": "[encoded data removed]",
            "text/plain": [
              "<Figure size 432x288 with 1 Axes>"
            ]
          },
          "metadata": {
            "tags": [],
            "needs_background": "light"
          }
        }
      ]
    },
    {
      "cell_type": "markdown",
      "metadata": {
        "id": "OG_xfJDJJrwm"
      },
      "source": [
        "Automation:\n",
        "\n",
        "1. Grid Search-> exhaustively creates a HPs combination set where some HPs will be included/excluded \n",
        "\n",
        "2. Random Search-> incomplete problems/infinite answers possible. Workable HP set, may not be the best answer! \n",
        "\n",
        "3. Bayesian Search-> probabilistic guided search \n",
        "\n",
        "\n",
        "Regression Example:\n",
        "\n",
        "Price of a product\n",
        "\n",
        "-> timing, availability, demand, brand\n",
        "   day/night.   1/0.       0-1.   [HPE,M,G]\n",
        "\n",
        "RT output-> $10, $15, $20.... \n",
        "\n",
        "metrics: AIC, RMSProp\n",
        "\n"
      ]
    },
    {
      "cell_type": "markdown",
      "metadata": {
        "id": "c9zTEW9KF13R"
      },
      "source": [
        "Prints from old performance:"
      ]
    },
    {
      "cell_type": "code",
      "metadata": {
        "colab": {
          "base_uri": "https://localhost:8080/"
        },
        "id": "xRy0Cu_o1mQZ",
        "outputId": "2e5d7a46-6dbc-4526-b8d9-6ab3fabedaf1"
      },
      "source": [
        "\r\n",
        "print(time_taken)\r\n",
        "print(dir(history.history))"
      ],
      "execution_count": null,
      "outputs": [
        {
          "output_type": "stream",
          "text": [
            "55.93441081047058\n",
            "['__class__', '__contains__', '__delattr__', '__delitem__', '__dir__', '__doc__', '__eq__', '__format__', '__ge__', '__getattribute__', '__getitem__', '__gt__', '__hash__', '__init__', '__init_subclass__', '__iter__', '__le__', '__len__', '__lt__', '__ne__', '__new__', '__reduce__', '__reduce_ex__', '__repr__', '__setattr__', '__setitem__', '__sizeof__', '__str__', '__subclasshook__', 'clear', 'copy', 'fromkeys', 'get', 'items', 'keys', 'pop', 'popitem', 'setdefault', 'update', 'values']\n"
          ],
          "name": "stdout"
        }
      ]
    },
    {
      "cell_type": "code",
      "metadata": {
        "id": "Oz_XgC8O2Ixw"
      },
      "source": [
        "import matplotlib.pyplot as plt\r\n",
        "stats = history.history\r\n",
        "val_acc = stats['val_acc']\r\n",
        "acc = stats['acc']\r\n",
        "val_loss = stats['val_loss']\r\n",
        "loss = stats['loss']\r\n",
        "epochs = range(1,HP_epochs+1)\r\n"
      ],
      "execution_count": null,
      "outputs": []
    },
    {
      "cell_type": "code",
      "metadata": {
        "colab": {
          "base_uri": "https://localhost:8080/",
          "height": 265
        },
        "id": "y8pWbR3u3Tnh",
        "outputId": "e6f5ca8c-3f90-4625-98c8-784f791e34f2"
      },
      "source": [
        "plt.figure()\r\n",
        "plt.plot(epochs, loss, 'bo', label='loss')\r\n",
        "plt.plot(epochs, val_loss, 'rx', label='val_loss')\r\n",
        "plt.legend()\r\n",
        "plt.show()"
      ],
      "execution_count": null,
      "outputs": [
        {
          "output_type": "display_data",
          "data": {
            "image/png": "[encoded data removed]",
            "text/plain": [
              "<Figure size 432x288 with 1 Axes>"
            ]
          },
          "metadata": {
            "tags": [],
            "needs_background": "light"
          }
        }
      ]
    },
    {
      "cell_type": "code",
      "metadata": {
        "colab": {
          "base_uri": "https://localhost:8080/",
          "height": 265
        },
        "id": "IvabSOez3bqM",
        "outputId": "b4ce9844-193b-430d-f6a5-29270c6ecd60"
      },
      "source": [
        "plt.figure()\r\n",
        "plt.plot(epochs, acc, 'bo', label='acc')\r\n",
        "plt.plot(epochs, val_acc, 'rx', label='val_acc')\r\n",
        "plt.legend()\r\n",
        "plt.show()"
      ],
      "execution_count": null,
      "outputs": [
        {
          "output_type": "display_data",
          "data": {
            "image/png": "[encoded data removed]",
            "text/plain": [
              "<Figure size 432x288 with 1 Axes>"
            ]
          },
          "metadata": {
            "tags": [],
            "needs_background": "light"
          }
        }
      ]
    },
    {
      "cell_type": "code",
      "metadata": {
        "id": "XqPx6xi-4JVS",
        "colab": {
          "base_uri": "https://localhost:8080/"
        },
        "outputId": "f2943da2-7b81-49c1-e726-0db3ff8f75d0"
      },
      "source": [
        "# COMPLETE model-> shape + weights\n",
        "\n",
        "# transferred the shape-> Neural network architecture\n",
        "# transfer the weights-> learnt by training\n",
        "\n",
        "# complete model\n",
        "m1.save('myfirstmodel.h5')\n",
        "!ls"
      ],
      "execution_count": null,
      "outputs": [
        {
          "output_type": "stream",
          "text": [
            "myfirstmodel.h5  sample_data\n"
          ],
          "name": "stdout"
        }
      ]
    },
    {
      "cell_type": "code",
      "metadata": {
        "colab": {
          "base_uri": "https://localhost:8080/"
        },
        "id": "FCm_CtjatZnn",
        "outputId": "f15375dd-e05d-460f-b551-da9524654680"
      },
      "source": [
        "# save partial models\n",
        "shape_m1 = m1.to_json() # shape of model\n",
        "with open('m1.json','w') as myFile:\n",
        "  myFile.write(shape_m1)\n",
        "\n",
        "m1.save_weights('m1weights.h5') # weights of model\n",
        "!ls"
      ],
      "execution_count": null,
      "outputs": [
        {
          "output_type": "stream",
          "text": [
            "m1.json  m1weights.h5  myfirstmodel.h5\tsample_data\n"
          ],
          "name": "stdout"
        }
      ]
    },
    {
      "cell_type": "code",
      "metadata": {
        "colab": {
          "base_uri": "https://localhost:8080/"
        },
        "id": "m7A06grat9IG",
        "outputId": "f4b84fb4-35c5-46d5-a4ac-47002009e97b"
      },
      "source": [
        "!cat m1.json"
      ],
      "execution_count": null,
      "outputs": [
        {
          "output_type": "stream",
          "text": [
            "{\"class_name\": \"Sequential\", \"config\": {\"name\": \"sequential\", \"layers\": [{\"class_name\": \"Embedding\", \"config\": {\"name\": \"embedding\", \"trainable\": true, \"batch_input_shape\": [null, null], \"dtype\": \"float32\", \"input_dim\": 10000, \"output_dim\": 16, \"embeddings_initializer\": {\"class_name\": \"RandomUniform\", \"config\": {\"minval\": -0.05, \"maxval\": 0.05, \"seed\": null, \"dtype\": \"float32\"}}, \"embeddings_regularizer\": null, \"activity_regularizer\": null, \"embeddings_constraint\": null, \"mask_zero\": false, \"input_length\": null}}, {\"class_name\": \"GlobalAveragePooling1D\", \"config\": {\"name\": \"global_average_pooling1d\", \"trainable\": true, \"dtype\": \"float32\", \"data_format\": \"channels_last\"}}, {\"class_name\": \"Dense\", \"config\": {\"name\": \"dense\", \"trainable\": true, \"dtype\": \"float32\", \"units\": 64, \"activation\": \"linear\", \"use_bias\": true, \"kernel_initializer\": {\"class_name\": \"GlorotUniform\", \"config\": {\"seed\": null, \"dtype\": \"float32\"}}, \"bias_initializer\": {\"class_name\": \"Zeros\", \"config\": {\"dtype\": \"float32\"}}, \"kernel_regularizer\": null, \"bias_regularizer\": null, \"activity_regularizer\": null, \"kernel_constraint\": null, \"bias_constraint\": null}}, {\"class_name\": \"Dense\", \"config\": {\"name\": \"dense_1\", \"trainable\": true, \"dtype\": \"float32\", \"units\": 128, \"activation\": \"relu\", \"use_bias\": true, \"kernel_initializer\": {\"class_name\": \"GlorotUniform\", \"config\": {\"seed\": null, \"dtype\": \"float32\"}}, \"bias_initializer\": {\"class_name\": \"Zeros\", \"config\": {\"dtype\": \"float32\"}}, \"kernel_regularizer\": null, \"bias_regularizer\": null, \"activity_regularizer\": null, \"kernel_constraint\": null, \"bias_constraint\": null}}, {\"class_name\": \"Dense\", \"config\": {\"name\": \"dense_2\", \"trainable\": true, \"dtype\": \"float32\", \"units\": 1, \"activation\": \"sigmoid\", \"use_bias\": true, \"kernel_initializer\": {\"class_name\": \"GlorotUniform\", \"config\": {\"seed\": null, \"dtype\": \"float32\"}}, \"bias_initializer\": {\"class_name\": \"Zeros\", \"config\": {\"dtype\": \"float32\"}}, \"kernel_regularizer\": null, \"bias_regularizer\": null, \"activity_regularizer\": null, \"kernel_constraint\": null, \"bias_constraint\": null}}]}, \"keras_version\": \"2.2.4-tf\", \"backend\": \"tensorflow\"}"
          ],
          "name": "stdout"
        }
      ]
    },
    {
      "cell_type": "code",
      "metadata": {
        "colab": {
          "base_uri": "https://localhost:8080/"
        },
        "id": "PLTD8ELEuTTw",
        "outputId": "a892f682-f8d3-4e27-c0f1-481120ff99f7"
      },
      "source": [
        "# another file\n",
        "from tensorflow.keras.models import model_from_json\n",
        "newm_shape = open('m1.json','r')\n",
        "loaded_json = newm_shape.read()\n",
        "newModel = model_from_json(loaded_json)"
      ],
      "execution_count": null,
      "outputs": [
        {
          "output_type": "stream",
          "text": [
            "WARNING:tensorflow:From /tensorflow-1.15.2/python3.6/tensorflow_core/python/ops/init_ops.py:97: calling GlorotUniform.__init__ (from tensorflow.python.ops.init_ops) with dtype is deprecated and will be removed in a future version.\n",
            "Instructions for updating:\n",
            "Call initializer instance with the dtype argument instead of passing it to the constructor\n",
            "WARNING:tensorflow:From /tensorflow-1.15.2/python3.6/tensorflow_core/python/ops/init_ops.py:97: calling Zeros.__init__ (from tensorflow.python.ops.init_ops) with dtype is deprecated and will be removed in a future version.\n",
            "Instructions for updating:\n",
            "Call initializer instance with the dtype argument instead of passing it to the constructor\n"
          ],
          "name": "stdout"
        }
      ]
    },
    {
      "cell_type": "code",
      "metadata": {
        "colab": {
          "base_uri": "https://localhost:8080/"
        },
        "id": "CaCPYjHFvAhg",
        "outputId": "702a90e1-4660-48e1-ddee-710f8232a576"
      },
      "source": [
        "newModel.summary()"
      ],
      "execution_count": null,
      "outputs": [
        {
          "output_type": "stream",
          "text": [
            "Model: \"sequential\"\n",
            "_________________________________________________________________\n",
            "Layer (type)                 Output Shape              Param #   \n",
            "=================================================================\n",
            "embedding (Embedding)        (None, None, 16)          160000    \n",
            "_________________________________________________________________\n",
            "global_average_pooling1d (Gl (None, 16)                0         \n",
            "_________________________________________________________________\n",
            "dense (Dense)                (None, 64)                1088      \n",
            "_________________________________________________________________\n",
            "dense_1 (Dense)              (None, 128)               8320      \n",
            "_________________________________________________________________\n",
            "dense_2 (Dense)              (None, 1)                 129       \n",
            "=================================================================\n",
            "Total params: 169,537\n",
            "Trainable params: 169,537\n",
            "Non-trainable params: 0\n",
            "_________________________________________________________________\n"
          ],
          "name": "stdout"
        }
      ]
    },
    {
      "cell_type": "code",
      "metadata": {
        "id": "XuVioQRKvMV8"
      },
      "source": [
        "newModel.load_weights('m1weights.h5')"
      ],
      "execution_count": null,
      "outputs": []
    },
    {
      "cell_type": "code",
      "metadata": {
        "id": "clHGpGFLvXRQ"
      },
      "source": [
        ""
      ],
      "execution_count": null,
      "outputs": []
    }
  ]
}