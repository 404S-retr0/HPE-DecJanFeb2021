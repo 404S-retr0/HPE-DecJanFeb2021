{
  "nbformat": 4,
  "nbformat_minor": 0,
  "metadata": {
    "colab": {
      "name": "HPE 02.ipynb",
      "provenance": [],
      "collapsed_sections": [],
      "authorship_tag": "ABX9TyN4LHTqqskHpCK/36jzRp+g"
    },
    "kernelspec": {
      "name": "python3",
      "display_name": "Python 3"
    }
  },
  "cells": [
    {
      "cell_type": "code",
      "metadata": {
        "colab": {
          "base_uri": "https://localhost:8080/"
        },
        "id": "ya8rvmOPZDdr",
        "outputId": "d30a3909-426a-48cb-f05d-f8a1fc5d787e"
      },
      "source": [
        "%tensorflow_version 1.x\r\n",
        "import tensorflow as tf\r\n",
        "print(tf.__version__)"
      ],
      "execution_count": 1,
      "outputs": [
        {
          "output_type": "stream",
          "text": [
            "TensorFlow 1.x selected.\n",
            "1.15.2\n"
          ],
          "name": "stdout"
        }
      ]
    },
    {
      "cell_type": "code",
      "metadata": {
        "id": "-GI4kT1gjuRS"
      },
      "source": [
        "import numpy as np\r\n",
        "import matplotlib.pyplot as plt\r\n",
        "i1= np.array([np.array([400,400]),np.array([400,400])])\r\n",
        "i2 =np.array([np.array([400,400]),np.array([0,0])])\r\n",
        "i3 =np.array([np.array([400,0]),np.array([400,0])])\r\n",
        "i4 =np.array([np.array([400,0]),np.array([0,400])])\r\n",
        "i5 =np.array([np.array([400,0]),np.array([400,400])])"
      ],
      "execution_count": 28,
      "outputs": []
    },
    {
      "cell_type": "code",
      "metadata": {
        "colab": {
          "base_uri": "https://localhost:8080/",
          "height": 232
        },
        "id": "ndBMJv79lq3Q",
        "outputId": "22a81560-0440-4a3d-8ed9-b2e79db19e0d"
      },
      "source": [
        "plt.figure(figsize=(3,3))\r\n",
        "plt.imshow(i5)"
      ],
      "execution_count": 29,
      "outputs": [
        {
          "output_type": "execute_result",
          "data": {
            "text/plain": [
              "<matplotlib.image.AxesImage at 0x7f3821edc9e8>"
            ]
          },
          "metadata": {
            "tags": []
          },
          "execution_count": 29
        },
        {
          "output_type": "display_data",
          "data": {
            "image/png": "[encoded data removed]",
            "text/plain": [
              "<Figure size 216x216 with 1 Axes>"
            ]
          },
          "metadata": {
            "tags": [],
            "needs_background": "light"
          }
        }
      ]
    },
    {
      "cell_type": "code",
      "metadata": {
        "id": "9WkBoVGcl5_2"
      },
      "source": [
        "k_h = np.array([np.array([2,2]),np.array([-2,-2])])\r\n",
        "k_v = np.array([np.array([2,-2]),np.array([2,-2])])\r\n",
        "k_d = np.array([np.array([2,-2]),np.array([-2,2])])\r\n",
        "\r\n",
        "def applyKernel(img, kernel):\r\n",
        "  return np.sum(np.multiply(img, kernel)) \r\n",
        "\r\n",
        "edgeDetected = lambda val: 'Edge Detected' if val>0 else 'No Edge Detected'"
      ],
      "execution_count": 30,
      "outputs": []
    },
    {
      "cell_type": "code",
      "metadata": {
        "colab": {
          "base_uri": "https://localhost:8080/"
        },
        "id": "PLo6a_aQnIPh",
        "outputId": "7e3c820d-da39-46a4-9a94-ad2b7dc29561"
      },
      "source": [
        "for i in [i1,i2,i3,i4,i5]:\r\n",
        "  print('Top Horizontal: ' + edgeDetected(applyKernel(i,k_h)))\r\n",
        "  print('Right Vertical: ' +edgeDetected(applyKernel(i,k_v)))\r\n",
        "  print('Pos Diagonal: ' +edgeDetected(applyKernel(i,k_d)))\r\n",
        "  print('****')"
      ],
      "execution_count": 32,
      "outputs": [
        {
          "output_type": "stream",
          "text": [
            "Top Horizontal: No Edge Detected\n",
            "Right Vertical: No Edge Detected\n",
            "Pos Diagonal: No Edge Detected\n",
            "****\n",
            "Top Horizontal: Edge Detected\n",
            "Right Vertical: No Edge Detected\n",
            "Pos Diagonal: No Edge Detected\n",
            "****\n",
            "Top Horizontal: No Edge Detected\n",
            "Right Vertical: Edge Detected\n",
            "Pos Diagonal: No Edge Detected\n",
            "****\n",
            "Top Horizontal: No Edge Detected\n",
            "Right Vertical: No Edge Detected\n",
            "Pos Diagonal: Edge Detected\n",
            "****\n",
            "Top Horizontal: No Edge Detected\n",
            "Right Vertical: Edge Detected\n",
            "Pos Diagonal: Edge Detected\n",
            "****\n"
          ],
          "name": "stdout"
        }
      ]
    },
    {
      "cell_type": "code",
      "metadata": {
        "colab": {
          "base_uri": "https://localhost:8080/"
        },
        "id": "IsZxTmpsnKdo",
        "outputId": "45f63aa5-a172-4398-cdc3-285162744068"
      },
      "source": [
        "!ls"
      ],
      "execution_count": 35,
      "outputs": [
        {
          "output_type": "stream",
          "text": [
            "001.jpg  sample_data\n"
          ],
          "name": "stdout"
        }
      ]
    },
    {
      "cell_type": "code",
      "metadata": {
        "colab": {
          "base_uri": "https://localhost:8080/",
          "height": 117
        },
        "id": "U8Gwav8asQ3y",
        "outputId": "7ee8ae9d-c018-461f-c86f-ebc7072c5143"
      },
      "source": [
        "import cv2\r\n",
        "from google.colab.patches import cv2_imshow\r\n",
        "data = cv2.imread('001.jpg')\r\n",
        "data = cv2.resize(data, (100,100))\r\n",
        "cv2_imshow(data)"
      ],
      "execution_count": 37,
      "outputs": [
        {
          "output_type": "display_data",
          "data": {
            "image/png": "[encoded data removed]",
            "text/plain": [
              "<PIL.Image.Image image mode=RGB size=100x100 at 0x7F3821E91BA8>"
            ]
          },
          "metadata": {
            "tags": []
          }
        }
      ]
    },
    {
      "cell_type": "code",
      "metadata": {
        "id": "plJ4vwXTsuvk"
      },
      "source": [
        "from tensorflow import keras\r\n",
        "from keras.models import Model\r\n",
        "from keras.applications.vgg16 import VGG16\r\n",
        "model = VGG16()\r\n",
        "kernels, biases =  model.layers[1].get_weights()\r\n",
        "fmin,fmax = kernels.min(), kernels.max()\r\n",
        "# MINMAX-> imgs normalization\r\n",
        "filters_norm = (kernels - fmin) / (fmax - fmin)\r\n",
        "\r\n",
        "# y = kernerls * image + bias"
      ],
      "execution_count": 46,
      "outputs": []
    },
    {
      "cell_type": "code",
      "metadata": {
        "colab": {
          "base_uri": "https://localhost:8080/",
          "height": 265
        },
        "id": "-CFNx9QauUTZ",
        "outputId": "f39e859a-d496-497d-db2d-9ead8b91ac3e"
      },
      "source": [
        "n_filters , ix = 6,1\r\n",
        "for i in range(n_filters):\r\n",
        "  f = kernels[:,:,:,i]\r\n",
        "  for j in range(3):\r\n",
        "    ax = plt.subplot(n_filters, 3, ix)\r\n",
        "    plt.imshow(f[:,:,j], cmap='gray')\r\n",
        "    ix= ix+1\r\n",
        "\r\n",
        "plt.axis('off')\r\n",
        "plt.show()"
      ],
      "execution_count": 47,
      "outputs": [
        {
          "output_type": "display_data",
          "data": {
            "image/png": "[encoded data removed]",
            "text/plain": [
              "<Figure size 432x288 with 18 Axes>"
            ]
          },
          "metadata": {
            "tags": [],
            "needs_background": "light"
          }
        }
      ]
    },
    {
      "cell_type": "code",
      "metadata": {
        "colab": {
          "base_uri": "https://localhost:8080/"
        },
        "id": "BkkWXO-Rvzf-",
        "outputId": "3d081b56-5ce6-4d95-a0e8-baec83e6ce8b"
      },
      "source": [
        "for layer in model.layers:\r\n",
        "  try:\r\n",
        "    kernels, biases = layer.get_weights()\r\n",
        "    print(layer.name)\r\n",
        "    print(len(kernels[0][0]))\r\n",
        "  except:\r\n",
        "    continue "
      ],
      "execution_count": 48,
      "outputs": [
        {
          "output_type": "stream",
          "text": [
            "block1_conv1\n",
            "3\n",
            "block1_conv2\n",
            "64\n",
            "block2_conv1\n",
            "64\n",
            "block2_conv2\n",
            "128\n",
            "block3_conv1\n",
            "128\n",
            "block3_conv2\n",
            "256\n",
            "block3_conv3\n",
            "256\n",
            "block4_conv1\n",
            "256\n",
            "block4_conv2\n",
            "512\n",
            "block4_conv3\n",
            "512\n",
            "block5_conv1\n",
            "512\n",
            "block5_conv2\n",
            "512\n",
            "block5_conv3\n",
            "512\n",
            "fc1\n",
            "fc2\n",
            "predictions\n"
          ],
          "name": "stdout"
        }
      ]
    },
    {
      "cell_type": "code",
      "metadata": {
        "colab": {
          "base_uri": "https://localhost:8080/"
        },
        "id": "bCenwWN7wrRN",
        "outputId": "cc0c1b52-c079-4385-8140-050a79910508"
      },
      "source": [
        "from keras.preprocessing.image import load_img \r\n",
        "from keras.preprocessing.image import img_to_array \r\n",
        "img = load_img('001.jpg', target_size=(224,224))\r\n",
        "img = img_to_array(img)\r\n",
        "img.shape"
      ],
      "execution_count": 50,
      "outputs": [
        {
          "output_type": "execute_result",
          "data": {
            "text/plain": [
              "(224, 224, 3)"
            ]
          },
          "metadata": {
            "tags": []
          },
          "execution_count": 50
        }
      ]
    },
    {
      "cell_type": "code",
      "metadata": {
        "colab": {
          "base_uri": "https://localhost:8080/"
        },
        "id": "wL944F0VxzwG",
        "outputId": "5a084484-6a54-43d0-f3e7-fe7456db22d0"
      },
      "source": [
        "img[0][0]"
      ],
      "execution_count": 52,
      "outputs": [
        {
          "output_type": "execute_result",
          "data": {
            "text/plain": [
              "array([ 17.,  59., 101.], dtype=float32)"
            ]
          },
          "metadata": {
            "tags": []
          },
          "execution_count": 52
        }
      ]
    },
    {
      "cell_type": "code",
      "metadata": {
        "id": "2pvsUTRPx81P"
      },
      "source": [
        ""
      ],
      "execution_count": null,
      "outputs": []
    }
  ]
}