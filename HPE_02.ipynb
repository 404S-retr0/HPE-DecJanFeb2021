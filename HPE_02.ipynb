{
  "nbformat": 4,
  "nbformat_minor": 0,
  "metadata": {
    "colab": {
      "name": "HPE 02.ipynb",
      "provenance": [],
      "authorship_tag": "ABX9TyMR7Sg7TPtpzcI0u5MVnPqs",
      "include_colab_link": true
    },
    "kernelspec": {
      "name": "python3",
      "display_name": "Python 3"
    }
  },
  "cells": [
    {
      "cell_type": "markdown",
      "metadata": {
        "id": "view-in-github",
        "colab_type": "text"
      },
      "source": [
        "<a href=\"https://colab.research.google.com/github/a-forty-two/HPE-DecJanFeb2021/blob/main/HPE_02.ipynb\" target=\"_parent\"><img src=\"https://colab.research.google.com/assets/colab-badge.svg\" alt=\"Open In Colab\"/></a>"
      ]
    },
    {
      "cell_type": "code",
      "metadata": {
        "colab": {
          "base_uri": "https://localhost:8080/"
        },
        "id": "ya8rvmOPZDdr",
        "outputId": "d30a3909-426a-48cb-f05d-f8a1fc5d787e"
      },
      "source": [
        "%tensorflow_version 1.x\r\n",
        "import tensorflow as tf\r\n",
        "print(tf.__version__)"
      ],
      "execution_count": 1,
      "outputs": [
        {
          "output_type": "stream",
          "text": [
            "TensorFlow 1.x selected.\n",
            "1.15.2\n"
          ],
          "name": "stdout"
        }
      ]
    },
    {
      "cell_type": "code",
      "metadata": {
        "id": "-GI4kT1gjuRS"
      },
      "source": [
        "import numpy as np\r\n",
        "import matplotlib.pyplot as plt\r\n",
        "i1= np.array([np.array([400,400]),np.array([400,400])])\r\n",
        "i2 =np.array([np.array([400,400]),np.array([0,0])])\r\n",
        "i3 =np.array([np.array([400,0]),np.array([400,0])])"
      ],
      "execution_count": 6,
      "outputs": []
    },
    {
      "cell_type": "code",
      "metadata": {
        "colab": {
          "base_uri": "https://localhost:8080/",
          "height": 232
        },
        "id": "ndBMJv79lq3Q",
        "outputId": "738326b9-1706-464f-acf1-d443d60ab5df"
      },
      "source": [
        "plt.figure(figsize=(3,3))\r\n",
        "plt.imshow(i2)"
      ],
      "execution_count": 16,
      "outputs": [
        {
          "output_type": "execute_result",
          "data": {
            "text/plain": [
              "<matplotlib.image.AxesImage at 0x7f3821fe2be0>"
            ]
          },
          "metadata": {
            "tags": []
          },
          "execution_count": 16
        },
        {
          "output_type": "display_data",
          "data": {
            "image/png": "[encoded data removed]",
            "text/plain": [
              "<Figure size 216x216 with 1 Axes>"
            ]
          },
          "metadata": {
            "tags": [],
            "needs_background": "light"
          }
        }
      ]
    },
    {
      "cell_type": "code",
      "metadata": {
        "id": "9WkBoVGcl5_2"
      },
      "source": [
        "k_h = np.array([np.array([2,2]),np.array([-2,-2])])\r\n",
        "k_v = np.array([np.array([2,-2]),np.array([2,-2])])\r\n",
        "def applyKernel(img, kernel):\r\n",
        "  return np.sum(np.multiply(img, kernel)) \r\n",
        "\r\n",
        "edgeDetected = lambda val: 'Edge Detected' if val>0 else 'No Edge Detected'"
      ],
      "execution_count": 12,
      "outputs": []
    },
    {
      "cell_type": "code",
      "metadata": {
        "colab": {
          "base_uri": "https://localhost:8080/"
        },
        "id": "PLo6a_aQnIPh",
        "outputId": "1f8b01a7-2221-415d-cee8-71921cb48edc"
      },
      "source": [
        "for i in [i1,i2,i3]:\r\n",
        "  print('Horizontal: ' + edgeDetected(applyKernel(i,k_h)))\r\n",
        "  print('Vertical: ' +edgeDetected(applyKernel(i,k_v)))\r\n",
        "  print('****')"
      ],
      "execution_count": 18,
      "outputs": [
        {
          "output_type": "stream",
          "text": [
            "Horizontal: No Edge Detected\n",
            "Vertical: No Edge Detected\n",
            "****\n",
            "Horizontal: Edge Detected\n",
            "Vertical: No Edge Detected\n",
            "****\n",
            "Horizontal: No Edge Detected\n",
            "Vertical: Edge Detected\n",
            "****\n"
          ],
          "name": "stdout"
        }
      ]
    },
    {
      "cell_type": "code",
      "metadata": {
        "id": "IsZxTmpsnKdo"
      },
      "source": [
        ""
      ],
      "execution_count": null,
      "outputs": []
    }
  ]
}