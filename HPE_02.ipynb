{
  "nbformat": 4,
  "nbformat_minor": 0,
  "metadata": {
    "colab": {
      "name": "HPE 02.ipynb",
      "provenance": [],
      "collapsed_sections": [],
      "authorship_tag": "ABX9TyPe0NfuEu2/apxUXTewKH26"
    },
    "kernelspec": {
      "name": "python3",
      "display_name": "Python 3"
    }
  },
  "cells": [
    {
      "cell_type": "code",
      "metadata": {
        "colab": {
          "base_uri": "https://localhost:8080/"
        },
        "id": "ya8rvmOPZDdr",
        "outputId": "d30a3909-426a-48cb-f05d-f8a1fc5d787e"
      },
      "source": [
        "%tensorflow_version 1.x\r\n",
        "import tensorflow as tf\r\n",
        "print(tf.__version__)"
      ],
      "execution_count": 1,
      "outputs": [
        {
          "output_type": "stream",
          "text": [
            "TensorFlow 1.x selected.\n",
            "1.15.2\n"
          ],
          "name": "stdout"
        }
      ]
    },
    {
      "cell_type": "code",
      "metadata": {
        "id": "-GI4kT1gjuRS"
      },
      "source": [
        "import numpy as np\r\n",
        "import matplotlib.pyplot as plt\r\n",
        "i1= np.array([np.array([400,400]),np.array([400,400])])\r\n",
        "i2 =np.array([np.array([400,400]),np.array([0,0])])\r\n",
        "i3 =np.array([np.array([400,0]),np.array([400,0])])\r\n",
        "i4 =np.array([np.array([400,0]),np.array([0,400])])\r\n",
        "i5 =np.array([np.array([400,0]),np.array([400,400])])"
      ],
      "execution_count": 28,
      "outputs": []
    },
    {
      "cell_type": "code",
      "metadata": {
        "colab": {
          "base_uri": "https://localhost:8080/",
          "height": 232
        },
        "id": "ndBMJv79lq3Q",
        "outputId": "22a81560-0440-4a3d-8ed9-b2e79db19e0d"
      },
      "source": [
        "plt.figure(figsize=(3,3))\r\n",
        "plt.imshow(i5)"
      ],
      "execution_count": 29,
      "outputs": [
        {
          "output_type": "execute_result",
          "data": {
            "text/plain": [
              "<matplotlib.image.AxesImage at 0x7f3821edc9e8>"
            ]
          },
          "metadata": {
            "tags": []
          },
          "execution_count": 29
        },
        {
          "output_type": "display_data",
          "data": {
            "image/png": "[encoded data removed]",
            "text/plain": [
              "<Figure size 216x216 with 1 Axes>"
            ]
          },
          "metadata": {
            "tags": [],
            "needs_background": "light"
          }
        }
      ]
    },
    {
      "cell_type": "code",
      "metadata": {
        "id": "9WkBoVGcl5_2"
      },
      "source": [
        "k_h = np.array([np.array([2,2]),np.array([-2,-2])])\r\n",
        "k_v = np.array([np.array([2,-2]),np.array([2,-2])])\r\n",
        "k_d = np.array([np.array([2,-2]),np.array([-2,2])])\r\n",
        "\r\n",
        "def applyKernel(img, kernel):\r\n",
        "  return np.sum(np.multiply(img, kernel)) \r\n",
        "\r\n",
        "edgeDetected = lambda val: 'Edge Detected' if val>0 else 'No Edge Detected'"
      ],
      "execution_count": 30,
      "outputs": []
    },
    {
      "cell_type": "code",
      "metadata": {
        "colab": {
          "base_uri": "https://localhost:8080/"
        },
        "id": "PLo6a_aQnIPh",
        "outputId": "7e3c820d-da39-46a4-9a94-ad2b7dc29561"
      },
      "source": [
        "for i in [i1,i2,i3,i4,i5]:\r\n",
        "  print('Top Horizontal: ' + edgeDetected(applyKernel(i,k_h)))\r\n",
        "  print('Right Vertical: ' +edgeDetected(applyKernel(i,k_v)))\r\n",
        "  print('Pos Diagonal: ' +edgeDetected(applyKernel(i,k_d)))\r\n",
        "  print('****')"
      ],
      "execution_count": 32,
      "outputs": [
        {
          "output_type": "stream",
          "text": [
            "Top Horizontal: No Edge Detected\n",
            "Right Vertical: No Edge Detected\n",
            "Pos Diagonal: No Edge Detected\n",
            "****\n",
            "Top Horizontal: Edge Detected\n",
            "Right Vertical: No Edge Detected\n",
            "Pos Diagonal: No Edge Detected\n",
            "****\n",
            "Top Horizontal: No Edge Detected\n",
            "Right Vertical: Edge Detected\n",
            "Pos Diagonal: No Edge Detected\n",
            "****\n",
            "Top Horizontal: No Edge Detected\n",
            "Right Vertical: No Edge Detected\n",
            "Pos Diagonal: Edge Detected\n",
            "****\n",
            "Top Horizontal: No Edge Detected\n",
            "Right Vertical: Edge Detected\n",
            "Pos Diagonal: Edge Detected\n",
            "****\n"
          ],
          "name": "stdout"
        }
      ]
    },
    {
      "cell_type": "code",
      "metadata": {
        "id": "IsZxTmpsnKdo"
      },
      "source": [
        ""
      ],
      "execution_count": null,
      "outputs": []
    }
  ]
}