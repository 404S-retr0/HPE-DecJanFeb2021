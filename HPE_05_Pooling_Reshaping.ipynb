{
  "nbformat": 4,
  "nbformat_minor": 0,
  "metadata": {
    "colab": {
      "name": "HPE_05_Pooling_Reshaping.ipynb",
      "provenance": [],
      "authorship_tag": "ABX9TyNb05GEXQY4YN3OPUffIRKN"
    },
    "kernelspec": {
      "name": "python3",
      "display_name": "Python 3"
    }
  },
  "cells": [
    {
      "cell_type": "code",
      "metadata": {
        "colab": {
          "base_uri": "https://localhost:8080/"
        },
        "id": "h8gB0LMkwRg1",
        "outputId": "5b8fcafd-d1cb-477a-bf6d-71fa71b4e4f8"
      },
      "source": [
        "# POOLING LAYERS\n",
        "%tensorflow_version 1.x\n",
        "import tensorflow as tf\n",
        "import numpy as np\n",
        "print(tf.__version__)"
      ],
      "execution_count": 1,
      "outputs": [
        {
          "output_type": "stream",
          "text": [
            "TensorFlow 1.x selected.\n",
            "1.15.2\n"
          ],
          "name": "stdout"
        }
      ]
    },
    {
      "cell_type": "code",
      "metadata": {
        "id": "sH6nPiGXwvla"
      },
      "source": [
        "temp = [ 0., 0., 1., 0., 0.,2., 1., 1., 0., 0.]\n",
        "values = tf.reshape(temp, [1,1,2,5])\n",
        "# final 5 elements -> 2 lists-> 1 list -> 1 list"
      ],
      "execution_count": 4,
      "outputs": []
    },
    {
      "cell_type": "code",
      "metadata": {
        "colab": {
          "base_uri": "https://localhost:8080/"
        },
        "id": "c-Nh5Q48xljP",
        "outputId": "e2b07c7f-80bc-4e48-9a6b-bea83966bca4"
      },
      "source": [
        "values\n",
        "# LAZY evaluation\n",
        "# TF-> complete picture only, then execution within a TF session"
      ],
      "execution_count": 6,
      "outputs": [
        {
          "output_type": "execute_result",
          "data": {
            "text/plain": [
              "<tf.Tensor 'Reshape:0' shape=(1, 1, 2, 5) dtype=float32>"
            ]
          },
          "metadata": {
            "tags": []
          },
          "execution_count": 6
        }
      ]
    },
    {
      "cell_type": "markdown",
      "metadata": {
        "id": "VQKGltY6yVDH"
      },
      "source": [
        "Lazy v/s Eager Evaluation\n",
        "\n",
        "ops. --------  Lazy.-----  Eager. \n",
        "\n",
        "a=1 ----------- OK -------- 1\n",
        "\n",
        "b=2 ----------- OK ------- 2\n",
        "\n",
        "c= a + b ------ OK ------- 3\n",
        "\n",
        "print(c) ------ EXECUTE()->\"3\" -------- \"3\"\n"
      ]
    },
    {
      "cell_type": "code",
      "metadata": {
        "colab": {
          "base_uri": "https://localhost:8080/"
        },
        "id": "Nd6JpylVyGGA",
        "outputId": "bb37ea7b-8282-4d80-b010-a1fcb9f4c443"
      },
      "source": [
        "session = tf.Session()\n",
        "print('original')\n",
        "print(temp)\n",
        "print('*******')\n",
        "print('reshaped')\n",
        "print(session.run(values))\n",
        "session.close()\n"
      ],
      "execution_count": 8,
      "outputs": [
        {
          "output_type": "stream",
          "text": [
            "original\n",
            "[0.0, 0.0, 1.0, 0.0, 0.0, 2.0, 1.0, 1.0, 0.0, 0.0]\n",
            "*******\n",
            "reshaped\n",
            "[[[[0. 0. 1. 0. 0.]\n",
            "   [2. 1. 1. 0. 0.]]]]\n"
          ],
          "name": "stdout"
        }
      ]
    },
    {
      "cell_type": "code",
      "metadata": {
        "id": "uTvrjty6zGjk"
      },
      "source": [
        "avgpool = tf.nn.pool(input=values, window_shape=(1,2), \n",
        "                     pooling_type='AVG', padding='VALID')\n",
        "maxpool = tf.nn.pool(input=values, window_shape=(1,2), \n",
        "                     pooling_type='MAX', padding='VALID')"
      ],
      "execution_count": 11,
      "outputs": []
    },
    {
      "cell_type": "code",
      "metadata": {
        "colab": {
          "base_uri": "https://localhost:8080/"
        },
        "id": "EdIXniug01Pm",
        "outputId": "efb6faf9-34eb-46b4-bccf-e756a1fee13e"
      },
      "source": [
        "session = tf.Session()\n",
        "print('original')\n",
        "print(temp)\n",
        "print('*******')\n",
        "print('reshaped')\n",
        "print(session.run(values))\n",
        "print('*******')\n",
        "print('avg_pool')\n",
        "print(session.run(avgpool))\n",
        "print('*******')\n",
        "print('max_pool;')\n",
        "print(session.run(maxpool))\n",
        "session.close()"
      ],
      "execution_count": 12,
      "outputs": [
        {
          "output_type": "stream",
          "text": [
            "original\n",
            "[0.0, 0.0, 1.0, 0.0, 0.0, 2.0, 1.0, 1.0, 0.0, 0.0]\n",
            "*******\n",
            "reshaped\n",
            "[[[[0. 0. 1. 0. 0.]\n",
            "   [2. 1. 1. 0. 0.]]]]\n",
            "*******\n",
            "avg_pool\n",
            "[[[[1.  0.5 1.  0.  0. ]]]]\n",
            "*******\n",
            "max_pool;\n",
            "[[[[2. 1. 1. 0. 0.]]]]\n"
          ],
          "name": "stdout"
        }
      ]
    },
    {
      "cell_type": "code",
      "metadata": {
        "id": "JwxKsb0I1Xf5"
      },
      "source": [
        "# CV/NLP-> MAX_pool -> data compression \n",
        "#          AVG_POOL-> blur an image! \n",
        "\n"
      ],
      "execution_count": null,
      "outputs": []
    }
  ]
}