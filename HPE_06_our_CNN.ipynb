{
  "nbformat": 4,
  "nbformat_minor": 0,
  "metadata": {
    "colab": {
      "name": "HPE 06- our CNN.ipynb",
      "provenance": [],
      "authorship_tag": "ABX9TyM3Uso9wZZ0v0QkWEgJ04N3"
    },
    "kernelspec": {
      "name": "python3",
      "display_name": "Python 3"
    }
  },
  "cells": [
    {
      "cell_type": "code",
      "metadata": {
        "id": "5-lsV8CxTS64"
      },
      "source": [
        "# No more COMPLETE layers\n",
        "# PARTIALLY CONNECTED -> some amount of learning\n",
        "# Complex network of partially connected layers \n",
        "# FLATTEN + Dense(ReLU) + Dense (Softwax)\n",
        "# colored/multi-dim images to something that can be accepted by flattening layer\n",
        "\n"
      ],
      "execution_count": 1,
      "outputs": []
    },
    {
      "cell_type": "code",
      "metadata": {
        "colab": {
          "base_uri": "https://localhost:8080/"
        },
        "id": "waSWXvcqUIuu",
        "outputId": "d58e0ce1-85f6-40fa-f75d-f3643c5111b4"
      },
      "source": [
        "%tensorflow_version 1.x\n",
        "import tensorflow as tf\n",
        "import numpy as np\n",
        "print(tf.__version__)"
      ],
      "execution_count": 2,
      "outputs": [
        {
          "output_type": "stream",
          "text": [
            "TensorFlow 1.x selected.\n",
            "1.15.2\n"
          ],
          "name": "stdout"
        }
      ]
    },
    {
      "cell_type": "code",
      "metadata": {
        "id": "8-Yti4ITUS8q"
      },
      "source": [
        "# VGG = SOme feature_generator_thru_conv X repeat_factor + image_classification\n",
        "# Conv -> BatchNormalize -> Conv -> BatchNormalize.....  \n",
        "# no neg numbers\n",
        "# Conv -> ReLU -> BN -> Conv -> Relu -> BN ..... \n",
        "# Compressing the image->\n",
        "# First step-> learn small filters on large image\n",
        "# LAST step-> learn large filters on small image\n",
        "# Conv -> ReLU -> BN-> MP -> Conv -> Relu -> BN -> MP ..... \n",
        "# Regularize the network for better output\n",
        "# DROPOUT layer \n",
        "# RandomVGG=((Conv2D->Relu-> BN)+MP+Dropout)XN + FLATTEN + Dense(ReLU) + Dense (Softwax)"
      ],
      "execution_count": 3,
      "outputs": []
    },
    {
      "cell_type": "code",
      "metadata": {
        "id": "VewE4qVkX4UZ"
      },
      "source": [
        "from keras import backend\n",
        "from keras.layers.core import Dense, Dropout, Flatten, Activation\n",
        "from keras.layers.convolutional import Conv2D, MaxPooling2D\n",
        "from keras.layers.normalization import BatchNormalization\n",
        "from keras.models import Sequential"
      ],
      "execution_count": 5,
      "outputs": []
    },
    {
      "cell_type": "code",
      "metadata": {
        "id": "jdM_yCquZSNa"
      },
      "source": [
        "#N= 5\n",
        "HP_block1_conv_dim = 32\n",
        "HP_block2_conv_dim = 64\n",
        "HP_block3_conv_dim = 128\n",
        "HP_block4_conv_dim = 256\n",
        "HP_block5_dense_dim = 1024\n",
        "HP_small_pattern = (3,3) # UNCOMPRESSED or 1-2 compression IMAGES\n",
        "HP_large_pattern = (2,2) # 4 times compressed images from previous MP layers!!!\n",
        "HP_dropout_little =0.25\n",
        "HP_dropout_big = 0.50\n",
        "# HP_epochs, batch_size-> are now problems of the developer USING this model. \n",
        "\n",
        "\n"
      ],
      "execution_count": 6,
      "outputs": []
    },
    {
      "cell_type": "code",
      "metadata": {
        "id": "AkbjU2zdW9xT"
      },
      "source": [
        "class RacoonVGG:\n",
        "  @staticmethod\n",
        "  def build(height, width, depth, classes):\n",
        "    # assume that we are on TF, but if something else is detected, switch the dimension\n",
        "    input_shape = (height, width, depth)\n",
        "    channel_dim = -1 # last position \n",
        "    if backend.image_data_format() == 'channels_first':\n",
        "      input_shape = (depth, height, width)\n",
        "      channel_dim = 1\n",
        "    model = Sequential()\n",
        "    \n",
        "    # BLOCK1\n",
        "    model.add(Conv2D(HP_block1_conv_dim,HP_small_pattern, padding='same',\n",
        "                     input_shape=input_shape))\n",
        "    model.add(Activation('relu'))\n",
        "    model.add(BatchNormalization(axis=channel_dim))\n",
        "    model.add(MaxPooling2D(pool_size=HP_small_pattern))\n",
        "    model.add(Dropout(HP_dropout_little))\n",
        "\n",
        "    # COMPLEX BLOCK 2\n",
        "    model.add(Conv2D(HP_block2_conv_dim,HP_small_pattern, padding='same'))\n",
        "    model.add(Activation('relu'))\n",
        "    model.add(BatchNormalization(axis=channel_dim))\n",
        "    model.add(Conv2D(HP_block2_conv_dim,HP_small_pattern, padding='same'))\n",
        "    model.add(Activation('relu'))\n",
        "    model.add(BatchNormalization(axis=channel_dim))\n",
        "    model.add(MaxPooling2D(pool_size=HP_large_pattern))\n",
        "    model.add(Dropout(HP_dropout_little))\n",
        "    \n",
        "    # COMPLEX BLOCK 3\n",
        "    model.add(Conv2D(HP_block3_conv_dim,HP_small_pattern, padding='same'))\n",
        "    model.add(Activation('relu'))\n",
        "    model.add(BatchNormalization(axis=channel_dim))\n",
        "    model.add(Conv2D(HP_block3_conv_dim,HP_small_pattern, padding='same'))\n",
        "    model.add(Activation('relu'))\n",
        "    model.add(BatchNormalization(axis=channel_dim))\n",
        "    model.add(MaxPooling2D(pool_size=HP_large_pattern))\n",
        "    model.add(Dropout(HP_dropout_little))\n",
        "\n",
        "    # COMPLEX BLOCK 4\n",
        "    model.add(Conv2D(HP_block4_conv_dim,HP_small_pattern, padding='same'))\n",
        "    model.add(Activation('relu'))\n",
        "    model.add(BatchNormalization(axis=channel_dim))\n",
        "    model.add(Conv2D(HP_block4_conv_dim,HP_small_pattern, padding='same'))\n",
        "    model.add(Activation('relu'))\n",
        "    model.add(BatchNormalization(axis=channel_dim))\n",
        "    model.add(MaxPooling2D(pool_size=HP_large_pattern))\n",
        "    model.add(Dropout(HP_dropout_little))\n",
        "\n",
        "    # BLOCK 5- Image Classification (OBJECT)\n",
        "    model.add(Flatten())\n",
        "    model.add(Dense(HP_block5_dense_dim))\n",
        "    model.add(Activation('relu'))\n",
        "    model.add(BatchNormalization())\n",
        "    model.add(Dropout(HP_dropout_big))\n",
        "    model.add(Dense(classes))\n",
        "    model.add(Activation('softmax'))\n",
        "    \n",
        "\n",
        "\n",
        "    # TF-> (h,w,d)\n",
        "    # Theano-> (d,h,w)\n",
        "    # GENERIC PROGRAM-> support BOTH the methods!!! \n",
        "    # if using KERAS-> because KERAS is just an API that is front facing an unknown\n",
        "    # backend!"
      ],
      "execution_count": 10,
      "outputs": []
    },
    {
      "cell_type": "code",
      "metadata": {
        "id": "eYFbxHRygKnc"
      },
      "source": [
        ""
      ],
      "execution_count": null,
      "outputs": []
    }
  ]
}