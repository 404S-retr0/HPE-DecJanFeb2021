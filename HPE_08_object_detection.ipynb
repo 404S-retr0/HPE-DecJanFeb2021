{
  "nbformat": 4,
  "nbformat_minor": 0,
  "metadata": {
    "colab": {
      "name": "HPE 07 image clean and resize.ipynb",
      "provenance": [],
      "authorship_tag": "ABX9TyO/3GMktwI45YbLUXOEs9im",
      "include_colab_link": true
    },
    "kernelspec": {
      "name": "python3",
      "display_name": "Python 3"
    }
  },
  "cells": [
    {
      "cell_type": "markdown",
      "metadata": {
        "id": "view-in-github",
        "colab_type": "text"
      },
      "source": [
        "<a href=\"https://colab.research.google.com/github/a-forty-two/HPE-DecJanFeb2021/blob/main/HPE_08_object_detection.ipynb\" target=\"_parent\"><img src=\"https://colab.research.google.com/assets/colab-badge.svg\" alt=\"Open In Colab\"/></a>"
      ]
    },
    {
      "cell_type": "code",
      "metadata": {
        "id": "2yXTA4mYETs7"
      },
      "source": [
        "#ACTIVATION -> filters, transforms\n",
        "# input_signal ----(activation)---- output_signal\n",
        "# output_signal -> -1 to 1-> tanh\n",
        "# probaility-> 0 to 1 -> Sigmoid \n",
        "# probab_distribution-> [0.8,0.2] -> softmax\n",
        "# only Pos-> ReLU\n",
        "# neg_num (tending to 0)-> LeakyRELU "
      ],
      "execution_count": 1,
      "outputs": []
    },
    {
      "cell_type": "code",
      "metadata": {
        "id": "cG3dkxCSE6rJ"
      },
      "source": [
        "import matplotlib.pyplot as plt\n",
        "import matplotlib\n",
        "matplotlib.use('Agg')\n",
        "from sklearn.preprocessing import LabelBinarizer # Label encoding, 1-hot encoding, multi-encoding\n",
        "# LABEL binarizer is a 1-hot encoded MATRIX \n",
        "import cv2\n",
        "import numpy as np\n",
        "import random\n",
        "import imutils\n",
        "from imutils import paths\n",
        "from keras.preprocessing.image import ImageDataGenerator, img_to_array\n",
        "from sklearn.model_selection import train_test_split"
      ],
      "execution_count": 2,
      "outputs": []
    },
    {
      "cell_type": "code",
      "metadata": {
        "colab": {
          "base_uri": "https://localhost:8080/"
        },
        "id": "YhHEq4GBH94U",
        "outputId": "438458da-b276-4ba9-b183-dea01cc1d87f"
      },
      "source": [
        "!ls data"
      ],
      "execution_count": 3,
      "outputs": [
        {
          "output_type": "stream",
          "text": [
            "cat  dog\n"
          ],
          "name": "stdout"
        }
      ]
    },
    {
      "cell_type": "code",
      "metadata": {
        "id": "-K0kaRQBH_L7"
      },
      "source": [
        "# base url + 0000...9999 + '.png'\n",
        "# 0000.png to 9999.png \n",
        "HP_dataset = 'data'\n",
        "HP_model_path = 'bin/model'\n",
        "HP_binarized_labels = 'bin/labels'\n",
        "HP_metrics_storage = 'eval'\n",
        "HP_test_dataset = 'test'\n",
        "HP_epoch = 100\n",
        "HP_init_lr = 1e-3 # learning_rate = 0.001\n",
        "HP_batch_size = 32\n",
        "HP_image_dim = (96,96,3)\n"
      ],
      "execution_count": 4,
      "outputs": []
    },
    {
      "cell_type": "code",
      "metadata": {
        "colab": {
          "base_uri": "https://localhost:8080/"
        },
        "id": "4w7pXrLbI3DY",
        "outputId": "6da03980-ddb5-466a-b3bd-d760f10bc372"
      },
      "source": [
        "data = []\n",
        "labels = [] \n",
        "# read all images\n",
        "all_images = sorted(list(paths.list_images(HP_dataset)))\n",
        "all_images[:5]"
      ],
      "execution_count": 5,
      "outputs": [
        {
          "output_type": "execute_result",
          "data": {
            "text/plain": [
              "['data/cat/00.jpg', 'data/cat/01.jpg', 'data/dog/02.jpg', 'data/dog/03.jpg']"
            ]
          },
          "metadata": {
            "tags": []
          },
          "execution_count": 5
        }
      ]
    },
    {
      "cell_type": "code",
      "metadata": {
        "colab": {
          "base_uri": "https://localhost:8080/"
        },
        "id": "AebxSjpOJHAj",
        "outputId": "ee10e5ed-4033-4c4b-e189-510f96b14de6"
      },
      "source": [
        "random.seed(42)\n",
        "random.shuffle(all_images)\n",
        "all_images[:5]"
      ],
      "execution_count": 6,
      "outputs": [
        {
          "output_type": "execute_result",
          "data": {
            "text/plain": [
              "['data/dog/02.jpg', 'data/cat/01.jpg', 'data/dog/03.jpg', 'data/cat/00.jpg']"
            ]
          },
          "metadata": {
            "tags": []
          },
          "execution_count": 6
        }
      ]
    },
    {
      "cell_type": "code",
      "metadata": {
        "id": "Vbz3vurwJT0c"
      },
      "source": [
        "# data/ [class_name] / [image_name ].extension \n",
        "#                  split by (/, //, \\) -> os.separators\n",
        "import os\n",
        "for impath in all_images:\n",
        "  img = cv2.imread(impath)\n",
        "  resized = cv2.resize(img, (HP_image_dim[0],HP_image_dim[1]) )\n",
        "  imageData = img_to_array(resized)\n",
        "  data.append(imageData)\n",
        "  # extract label from filename (2nd last element) / \\\\ \n",
        "  label = impath.split(os.path.sep)[-2]\n",
        "  labels.append(label)\n",
        "\n"
      ],
      "execution_count": 7,
      "outputs": []
    },
    {
      "cell_type": "code",
      "metadata": {
        "colab": {
          "base_uri": "https://localhost:8080/"
        },
        "id": "h_0hDGZKJ8vQ",
        "outputId": "08ece7db-c814-4430-d499-1a91a9735e30"
      },
      "source": [
        "data[0]"
      ],
      "execution_count": 8,
      "outputs": [
        {
          "output_type": "execute_result",
          "data": {
            "text/plain": [
              "array([[[103., 135., 158.],\n",
              "        [101., 134., 157.],\n",
              "        [101., 133., 156.],\n",
              "        ...,\n",
              "        [222., 214., 206.],\n",
              "        [216., 203., 197.],\n",
              "        [203., 187., 186.]],\n",
              "\n",
              "       [[102., 134., 157.],\n",
              "        [101., 135., 157.],\n",
              "        [103., 135., 158.],\n",
              "        ...,\n",
              "        [163., 164., 173.],\n",
              "        [164., 161., 171.],\n",
              "        [203., 186., 186.]],\n",
              "\n",
              "       [[105., 136., 159.],\n",
              "        [103., 136., 159.],\n",
              "        [104., 136., 159.],\n",
              "        ...,\n",
              "        [161., 167., 178.],\n",
              "        [162., 165., 177.],\n",
              "        [162., 166., 175.]],\n",
              "\n",
              "       ...,\n",
              "\n",
              "       [[113., 145., 168.],\n",
              "        [114., 146., 169.],\n",
              "        [112., 144., 167.],\n",
              "        ...,\n",
              "        [ 29.,  52.,  84.],\n",
              "        [ 39.,  67., 102.],\n",
              "        [ 30.,  57.,  91.]],\n",
              "\n",
              "       [[110., 142., 165.],\n",
              "        [110., 142., 165.],\n",
              "        [112., 143., 166.],\n",
              "        ...,\n",
              "        [ 26.,  51.,  88.],\n",
              "        [ 40.,  70., 105.],\n",
              "        [ 30.,  61.,  94.]],\n",
              "\n",
              "       [[111., 142., 166.],\n",
              "        [111., 144., 165.],\n",
              "        [109., 143., 165.],\n",
              "        ...,\n",
              "        [ 31.,  59.,  94.],\n",
              "        [ 32.,  68., 101.],\n",
              "        [ 30.,  64.,  98.]]], dtype=float32)"
            ]
          },
          "metadata": {
            "tags": []
          },
          "execution_count": 8
        }
      ]
    },
    {
      "cell_type": "code",
      "metadata": {
        "id": "O6K8LAtnKBCI",
        "colab": {
          "base_uri": "https://localhost:8080/"
        },
        "outputId": "42e85f2f-151a-47f5-87f0-b93e704785e4"
      },
      "source": [
        "# LABELS \n",
        "# 0-1-> Cat and DOG-> [0 1] , [1 0]\n",
        "data = np.array(data, dtype='float' )/ 255.0\n",
        "labels = np.array(labels)\n",
        "from sklearn.preprocessing import LabelBinarizer\n",
        "lb = LabelBinarizer()\n",
        "labels = lb.fit_transform(labels)\n",
        "labels"
      ],
      "execution_count": 10,
      "outputs": [
        {
          "output_type": "execute_result",
          "data": {
            "text/plain": [
              "array([[1],\n",
              "       [0],\n",
              "       [1],\n",
              "       [0]])"
            ]
          },
          "metadata": {
            "tags": []
          },
          "execution_count": 10
        }
      ]
    },
    {
      "cell_type": "code",
      "metadata": {
        "id": "6PeufN4Xhuin"
      },
      "source": [
        "from sklearn.model_selection import train_test_split\n",
        "trainx,testx,trainy,testy = train_test_split(data, labels, test_size=0.2, random_state=42)\n"
      ],
      "execution_count": 11,
      "outputs": []
    },
    {
      "cell_type": "code",
      "metadata": {
        "colab": {
          "base_uri": "https://localhost:8080/"
        },
        "id": "kUECe26qizE9",
        "outputId": "225e9fb5-68cc-4821-9384-093306818c9b"
      },
      "source": [
        "len(testx)"
      ],
      "execution_count": 13,
      "outputs": [
        {
          "output_type": "execute_result",
          "data": {
            "text/plain": [
              "1"
            ]
          },
          "metadata": {
            "tags": []
          },
          "execution_count": 13
        }
      ]
    },
    {
      "cell_type": "code",
      "metadata": {
        "id": "Rig6l8EIi1Is"
      },
      "source": [
        "# Augmentation\n",
        "aug = ImageDataGenerator( rotation_range=25, width_shift_range=0.1, \n",
        "                         height_shift_range=0.1, shear_range=0.2,\n",
        "                         zoom_range=0.2, horizontal_flip=True,fill_mode='nearest')\n"
      ],
      "execution_count": 14,
      "outputs": []
    },
    {
      "cell_type": "code",
      "metadata": {
        "id": "ihwDSCw_ju8C"
      },
      "source": [
        "from keras import backend\n",
        "from keras.layers.core import Dense, Dropout, Flatten, Activation\n",
        "from keras.layers.convolutional import Conv2D, MaxPooling2D\n",
        "from keras.layers.normalization import BatchNormalization\n",
        "from keras.models import Sequential\n",
        "#N= 5\n",
        "HP_block1_conv_dim = 32\n",
        "HP_block2_conv_dim = 64\n",
        "HP_block3_conv_dim = 128\n",
        "HP_block4_conv_dim = 256\n",
        "HP_block5_dense_dim = 1024\n",
        "HP_small_pattern = (3,3) # UNCOMPRESSED or 1-2 compression IMAGES\n",
        "HP_large_pattern = (2,2) # 4 times compressed images from previous MP layers!!!\n",
        "HP_dropout_little =0.25\n",
        "HP_dropout_big = 0.50\n",
        "# HP_epochs, batch_size-> are now problems of the developer USING this model. \n",
        "\n",
        "HP_img_dims = (96,96,3)\n"
      ],
      "execution_count": 17,
      "outputs": []
    },
    {
      "cell_type": "code",
      "metadata": {
        "id": "tm-JmRVBkXqQ"
      },
      "source": [
        "class RacoonVGG:\n",
        "  @staticmethod\n",
        "  def build(height, width, depth, classes):\n",
        "    # assume that we are on TF, but if something else is detected, switch the dimension\n",
        "    input_shape = (height, width, depth)\n",
        "    channel_dim = -1 # last position \n",
        "    if backend.image_data_format() == 'channels_first':\n",
        "      input_shape = (depth, height, width)\n",
        "      channel_dim = 1\n",
        "    model = Sequential()\n",
        "    \n",
        "    # BLOCK1\n",
        "    model.add(Conv2D(HP_block1_conv_dim,HP_small_pattern, padding='same',\n",
        "                     input_shape=input_shape))\n",
        "    model.add(Activation('relu'))\n",
        "    model.add(BatchNormalization(axis=channel_dim))\n",
        "    model.add(MaxPooling2D(pool_size=HP_small_pattern))\n",
        "    model.add(Dropout(HP_dropout_little))\n",
        "\n",
        "    # COMPLEX BLOCK 2\n",
        "    model.add(Conv2D(HP_block2_conv_dim,HP_small_pattern, padding='same'))\n",
        "    model.add(Activation('relu'))\n",
        "    model.add(BatchNormalization(axis=channel_dim))\n",
        "    model.add(Conv2D(HP_block2_conv_dim,HP_small_pattern, padding='same'))\n",
        "    model.add(Activation('relu'))\n",
        "    model.add(BatchNormalization(axis=channel_dim))\n",
        "    model.add(MaxPooling2D(pool_size=HP_large_pattern))\n",
        "    model.add(Dropout(HP_dropout_little))\n",
        "    \n",
        "    # COMPLEX BLOCK 3\n",
        "    model.add(Conv2D(HP_block3_conv_dim,HP_small_pattern, padding='same'))\n",
        "    model.add(Activation('relu'))\n",
        "    model.add(BatchNormalization(axis=channel_dim))\n",
        "    model.add(Conv2D(HP_block3_conv_dim,HP_small_pattern, padding='same'))\n",
        "    model.add(Activation('relu'))\n",
        "    model.add(BatchNormalization(axis=channel_dim))\n",
        "    model.add(MaxPooling2D(pool_size=HP_large_pattern))\n",
        "    model.add(Dropout(HP_dropout_little))\n",
        "\n",
        "    # COMPLEX BLOCK 4\n",
        "    model.add(Conv2D(HP_block4_conv_dim,HP_small_pattern, padding='same'))\n",
        "    model.add(Activation('relu'))\n",
        "    model.add(BatchNormalization(axis=channel_dim))\n",
        "    model.add(Conv2D(HP_block4_conv_dim,HP_small_pattern, padding='same'))\n",
        "    model.add(Activation('relu'))\n",
        "    model.add(BatchNormalization(axis=channel_dim))\n",
        "    model.add(MaxPooling2D(pool_size=HP_large_pattern))\n",
        "    model.add(Dropout(HP_dropout_little))\n",
        "\n",
        "    # BLOCK 5- Image Classification (OBJECT)\n",
        "    model.add(Flatten())\n",
        "    model.add(Dense(HP_block5_dense_dim))\n",
        "    model.add(Activation('relu'))\n",
        "    model.add(BatchNormalization())\n",
        "    model.add(Dropout(HP_dropout_big))\n",
        "    model.add(Dense(classes))\n",
        "    model.add(Activation('softmax'))\n",
        "    return model\n",
        "\n",
        "\n",
        "    # TF-> (h,w,d)\n",
        "    # Theano-> (d,h,w)\n",
        "    # GENERIC PROGRAM-> support BOTH the methods!!! \n",
        "    # if using KERAS-> because KERAS is just an API that is front facing an unknown\n",
        "    # backend!"
      ],
      "execution_count": 21,
      "outputs": []
    },
    {
      "cell_type": "code",
      "metadata": {
        "id": "rAfj8rmekdIQ"
      },
      "source": [
        "from tensorflow.keras.optimizers import Adam\n",
        "model = RacoonVGG.build(height=HP_img_dims[0], width=HP_img_dims[1], depth=HP_img_dims[2],classes = len(lb.classes_))\n",
        "opt = Adam(lr=HP_init_lr, decay = HP_init_lr/ HP_epoch)\n",
        "model.compile(loss='categorical_crossentropy', optimizer=opt, metrics=['accuracy'])\n",
        "\n",
        "\n",
        "# 0.1 ; 0.1 - 0.1/50; (0.1-0.1/50)- 0.1/50..... "
      ],
      "execution_count": 22,
      "outputs": []
    },
    {
      "cell_type": "code",
      "metadata": {
        "colab": {
          "base_uri": "https://localhost:8080/"
        },
        "id": "RFaAyHMfm9t2",
        "outputId": "afa1cebc-cc92-4361-8c02-59ab2f65dcff"
      },
      "source": [
        "len(trainx)"
      ],
      "execution_count": 27,
      "outputs": [
        {
          "output_type": "execute_result",
          "data": {
            "text/plain": [
              "3"
            ]
          },
          "metadata": {
            "tags": []
          },
          "execution_count": 27
        }
      ]
    },
    {
      "cell_type": "code",
      "metadata": {
        "colab": {
          "base_uri": "https://localhost:8080/",
          "height": 409
        },
        "id": "l12Vu9ITls9w",
        "outputId": "d3f25af9-e4cb-405b-b1c8-41df0cd7eefa"
      },
      "source": [
        "hist = model.fit(aug.flow(trainx, trainy, batch_size=HP_batch_size),\n",
        "                 validation_data=(testx, testy),\n",
        "                 steps_per_epoch= len(trainx) // HP_batch_size,\n",
        "                 epochs=HP_epoch, verbose=1)"
      ],
      "execution_count": 23,
      "outputs": [
        {
          "output_type": "stream",
          "text": [
            "Epoch 1/100\n"
          ],
          "name": "stdout"
        },
        {
          "output_type": "error",
          "ename": "ValueError",
          "evalue": "ignored",
          "traceback": [
            "\u001b[0;31m---------------------------------------------------------------------------\u001b[0m",
            "\u001b[0;31mValueError\u001b[0m                                Traceback (most recent call last)",
            "\u001b[0;32m<ipython-input-23-e67dc7f9c13c>\u001b[0m in \u001b[0;36m<module>\u001b[0;34m()\u001b[0m\n\u001b[1;32m      2\u001b[0m                  \u001b[0mvalidation_data\u001b[0m\u001b[0;34m=\u001b[0m\u001b[0;34m(\u001b[0m\u001b[0mtestx\u001b[0m\u001b[0;34m,\u001b[0m \u001b[0mtesty\u001b[0m\u001b[0;34m)\u001b[0m\u001b[0;34m,\u001b[0m\u001b[0;34m\u001b[0m\u001b[0;34m\u001b[0m\u001b[0m\n\u001b[1;32m      3\u001b[0m                  \u001b[0msteps_per_epoch\u001b[0m\u001b[0;34m=\u001b[0m \u001b[0mlen\u001b[0m\u001b[0;34m(\u001b[0m\u001b[0mtrainx\u001b[0m\u001b[0;34m)\u001b[0m \u001b[0;34m//\u001b[0m \u001b[0mHP_batch_size\u001b[0m\u001b[0;34m,\u001b[0m\u001b[0;34m\u001b[0m\u001b[0;34m\u001b[0m\u001b[0m\n\u001b[0;32m----> 4\u001b[0;31m                  epochs=HP_epoch, verbose=1)\n\u001b[0m",
            "\u001b[0;32m/usr/local/lib/python3.6/dist-packages/tensorflow/python/keras/engine/training.py\u001b[0m in \u001b[0;36mfit\u001b[0;34m(self, x, y, batch_size, epochs, verbose, callbacks, validation_split, validation_data, shuffle, class_weight, sample_weight, initial_epoch, steps_per_epoch, validation_steps, validation_batch_size, validation_freq, max_queue_size, workers, use_multiprocessing)\u001b[0m\n\u001b[1;32m   1108\u001b[0m \u001b[0;34m\u001b[0m\u001b[0m\n\u001b[1;32m   1109\u001b[0m         \u001b[0;32mif\u001b[0m \u001b[0mlogs\u001b[0m \u001b[0;32mis\u001b[0m \u001b[0;32mNone\u001b[0m\u001b[0;34m:\u001b[0m\u001b[0;34m\u001b[0m\u001b[0;34m\u001b[0m\u001b[0m\n\u001b[0;32m-> 1110\u001b[0;31m           \u001b[0;32mraise\u001b[0m \u001b[0mValueError\u001b[0m\u001b[0;34m(\u001b[0m\u001b[0;34m'Expect x to be a non-empty array or dataset.'\u001b[0m\u001b[0;34m)\u001b[0m\u001b[0;34m\u001b[0m\u001b[0;34m\u001b[0m\u001b[0m\n\u001b[0m\u001b[1;32m   1111\u001b[0m         \u001b[0mepoch_logs\u001b[0m \u001b[0;34m=\u001b[0m \u001b[0mcopy\u001b[0m\u001b[0;34m.\u001b[0m\u001b[0mcopy\u001b[0m\u001b[0;34m(\u001b[0m\u001b[0mlogs\u001b[0m\u001b[0;34m)\u001b[0m\u001b[0;34m\u001b[0m\u001b[0;34m\u001b[0m\u001b[0m\n\u001b[1;32m   1112\u001b[0m \u001b[0;34m\u001b[0m\u001b[0m\n",
            "\u001b[0;31mValueError\u001b[0m: Expect x to be a non-empty array or dataset."
          ]
        }
      ]
    },
    {
      "cell_type": "code",
      "metadata": {
        "id": "75p_a-GZm19p"
      },
      "source": [
        ""
      ],
      "execution_count": null,
      "outputs": []
    }
  ]
}