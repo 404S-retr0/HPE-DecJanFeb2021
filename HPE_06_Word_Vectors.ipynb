{
  "nbformat": 4,
  "nbformat_minor": 0,
  "metadata": {
    "colab": {
      "name": "HPE 06- Word Vectors.ipynb",
      "provenance": [],
      "authorship_tag": "ABX9TyNSL+HnPMS2oojzJgXnI34A"
    },
    "kernelspec": {
      "name": "python3",
      "display_name": "Python 3"
    }
  },
  "cells": [
    {
      "cell_type": "code",
      "metadata": {
        "colab": {
          "base_uri": "https://localhost:8080/"
        },
        "id": "6QMNJrZPqCD-",
        "outputId": "64b67694-a057-47d7-d8a5-fed60e999caa"
      },
      "source": [
        "%tensorflow_version 1.x\n",
        "import tensorflow as tf\n",
        "import numpy as np\n",
        "print(tf.__version__)"
      ],
      "execution_count": 1,
      "outputs": [
        {
          "output_type": "stream",
          "text": [
            "TensorFlow 1.x selected.\n",
            "1.15.2\n"
          ],
          "name": "stdout"
        }
      ]
    },
    {
      "cell_type": "code",
      "metadata": {
        "colab": {
          "base_uri": "https://localhost:8080/"
        },
        "id": "EpB4AJIaqF1t",
        "outputId": "f2940256-25c0-4fff-ca6b-044a43a90b27"
      },
      "source": [
        "# DICTIONARY method for NLP inputs \n",
        "sent = 'Shaktiman is red in color. Pikachu is yellow in color. He is not a rich duck.'\n",
        "corpus_lower = sent.lower()\n",
        "words = []\n",
        "for word in corpus_lower.split():\n",
        "  if word != '.':\n",
        "    word = word.replace('.','')\n",
        "    words.append(word)\n",
        "\n",
        "words\n"
      ],
      "execution_count": 2,
      "outputs": [
        {
          "output_type": "execute_result",
          "data": {
            "text/plain": [
              "['shaktiman',\n",
              " 'is',\n",
              " 'red',\n",
              " 'in',\n",
              " 'color',\n",
              " 'pikachu',\n",
              " 'is',\n",
              " 'yellow',\n",
              " 'in',\n",
              " 'color',\n",
              " 'he',\n",
              " 'is',\n",
              " 'not',\n",
              " 'a',\n",
              " 'rich',\n",
              " 'duck']"
            ]
          },
          "metadata": {
            "tags": []
          },
          "execution_count": 2
        }
      ]
    },
    {
      "cell_type": "code",
      "metadata": {
        "colab": {
          "base_uri": "https://localhost:8080/"
        },
        "id": "KB-zN-w8rfHw",
        "outputId": "6e5b4715-77c1-4c34-9476-53958ae1c9bc"
      },
      "source": [
        "unique_words = set(words)\n",
        "unique_words"
      ],
      "execution_count": 3,
      "outputs": [
        {
          "output_type": "execute_result",
          "data": {
            "text/plain": [
              "{'a',\n",
              " 'color',\n",
              " 'duck',\n",
              " 'he',\n",
              " 'in',\n",
              " 'is',\n",
              " 'not',\n",
              " 'pikachu',\n",
              " 'red',\n",
              " 'rich',\n",
              " 'shaktiman',\n",
              " 'yellow'}"
            ]
          },
          "metadata": {
            "tags": []
          },
          "execution_count": 3
        }
      ]
    },
    {
      "cell_type": "code",
      "metadata": {
        "id": "u-IfoRefrpOr"
      },
      "source": [
        ""
      ],
      "execution_count": null,
      "outputs": []
    }
  ]
}