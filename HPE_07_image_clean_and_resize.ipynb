{
  "nbformat": 4,
  "nbformat_minor": 0,
  "metadata": {
    "colab": {
      "name": "HPE 07 image clean and resize.ipynb",
      "provenance": [],
      "authorship_tag": "ABX9TyPkRPD9P+3jZrBGkVNOAM2M"
    },
    "kernelspec": {
      "name": "python3",
      "display_name": "Python 3"
    }
  },
  "cells": [
    {
      "cell_type": "code",
      "metadata": {
        "id": "2yXTA4mYETs7"
      },
      "source": [
        "#ACTIVATION -> filters, transforms\n",
        "# input_signal ----(activation)---- output_signal\n",
        "# output_signal -> -1 to 1-> tanh\n",
        "# probaility-> 0 to 1 -> Sigmoid \n",
        "# probab_distribution-> [0.8,0.2] -> softmax\n",
        "# only Pos-> ReLU\n",
        "# neg_num (tending to 0)-> LeakyRELU "
      ],
      "execution_count": 1,
      "outputs": []
    },
    {
      "cell_type": "code",
      "metadata": {
        "id": "cG3dkxCSE6rJ"
      },
      "source": [
        "import matplotlib.pyplot as plt\n",
        "import matplotlib\n",
        "matplotlib.use('Agg')\n",
        "from sklearn.preprocessing import LabelBinarizer # Label encoding, 1-hot encoding, multi-encoding\n",
        "# LABEL binarizer is a 1-hot encoded MATRIX \n",
        "import cv2\n",
        "import numpy as np\n",
        "import random\n",
        "import imutils\n",
        "from imutils import paths\n",
        "from keras.preprocessing.image import ImageDataGenerator, img_to_array\n",
        "from sklearn.model_selection import train_test_split"
      ],
      "execution_count": 2,
      "outputs": []
    },
    {
      "cell_type": "code",
      "metadata": {
        "colab": {
          "base_uri": "https://localhost:8080/"
        },
        "id": "YhHEq4GBH94U",
        "outputId": "1408bd85-4a4c-44de-baf6-cfca680c894f"
      },
      "source": [
        "!ls data"
      ],
      "execution_count": 4,
      "outputs": [
        {
          "output_type": "stream",
          "text": [
            "cat  dog\n"
          ],
          "name": "stdout"
        }
      ]
    },
    {
      "cell_type": "code",
      "metadata": {
        "id": "-K0kaRQBH_L7"
      },
      "source": [
        "HP_dataset = 'data'\n",
        "HP_model_path = 'bin/model'\n",
        "HP_binarized_labels = 'bin/labels'\n",
        "HP_metrics_storage = 'eval'\n",
        "HP_test_dataset = 'test'\n",
        "HP_epoch = 100\n",
        "HP_init_lr = 1e-3 # learning_rate = 0.001\n",
        "HP_batch_size = 32\n",
        "HP_image_dim = (96,96,3)\n"
      ],
      "execution_count": 5,
      "outputs": []
    },
    {
      "cell_type": "code",
      "metadata": {
        "colab": {
          "base_uri": "https://localhost:8080/"
        },
        "id": "4w7pXrLbI3DY",
        "outputId": "bf34bf29-b25f-417c-fb53-61531ebae05d"
      },
      "source": [
        "data = []\n",
        "labels = [] \n",
        "# read all images\n",
        "all_images = sorted(list(paths.list_images(HP_dataset)))\n",
        "all_images[:5]"
      ],
      "execution_count": 6,
      "outputs": [
        {
          "output_type": "execute_result",
          "data": {
            "text/plain": [
              "['data/cat/00.jpg', 'data/cat/01.jpg', 'data/dog/02.jpg', 'data/dog/03.jpg']"
            ]
          },
          "metadata": {
            "tags": []
          },
          "execution_count": 6
        }
      ]
    },
    {
      "cell_type": "code",
      "metadata": {
        "colab": {
          "base_uri": "https://localhost:8080/"
        },
        "id": "AebxSjpOJHAj",
        "outputId": "6079fdf5-683c-45e9-afca-a2d0fb0f1d8b"
      },
      "source": [
        "random.seed(42)\n",
        "random.shuffle(all_images)\n",
        "all_images[:5]"
      ],
      "execution_count": 7,
      "outputs": [
        {
          "output_type": "execute_result",
          "data": {
            "text/plain": [
              "['data/dog/02.jpg', 'data/cat/01.jpg', 'data/dog/03.jpg', 'data/cat/00.jpg']"
            ]
          },
          "metadata": {
            "tags": []
          },
          "execution_count": 7
        }
      ]
    },
    {
      "cell_type": "code",
      "metadata": {
        "id": "Vbz3vurwJT0c"
      },
      "source": [
        "# data/ [class_name] / [image_name ].extension \n",
        "#                  split by (/, //, \\) -> os.separators\n",
        "import os\n",
        "for impath in all_images:\n",
        "  img = cv2.imread(impath)\n",
        "  resized = cv2.resize(img, (HP_image_dim[0],HP_image_dim[1]) )\n",
        "  imageData = img_to_array(resized)\n",
        "  data.append(imageData)\n",
        "  # extract label from filename (2nd last element) / \\\\ \n",
        "  label = impath.split(os.path.sep)[-2]\n",
        "  labels.append(label)\n",
        "\n"
      ],
      "execution_count": 9,
      "outputs": []
    },
    {
      "cell_type": "code",
      "metadata": {
        "colab": {
          "base_uri": "https://localhost:8080/"
        },
        "id": "h_0hDGZKJ8vQ",
        "outputId": "a4f211fe-82b5-4847-de00-bfb372127f6c"
      },
      "source": [
        "data[0]"
      ],
      "execution_count": 10,
      "outputs": [
        {
          "output_type": "execute_result",
          "data": {
            "text/plain": [
              "array([[[103., 135., 158.],\n",
              "        [101., 134., 157.],\n",
              "        [101., 133., 156.],\n",
              "        ...,\n",
              "        [222., 214., 206.],\n",
              "        [216., 203., 197.],\n",
              "        [203., 187., 186.]],\n",
              "\n",
              "       [[102., 134., 157.],\n",
              "        [101., 135., 157.],\n",
              "        [103., 135., 158.],\n",
              "        ...,\n",
              "        [163., 164., 173.],\n",
              "        [164., 161., 171.],\n",
              "        [203., 186., 186.]],\n",
              "\n",
              "       [[105., 136., 159.],\n",
              "        [103., 136., 159.],\n",
              "        [104., 136., 159.],\n",
              "        ...,\n",
              "        [161., 167., 178.],\n",
              "        [162., 165., 177.],\n",
              "        [162., 166., 175.]],\n",
              "\n",
              "       ...,\n",
              "\n",
              "       [[113., 145., 168.],\n",
              "        [114., 146., 169.],\n",
              "        [112., 144., 167.],\n",
              "        ...,\n",
              "        [ 29.,  52.,  84.],\n",
              "        [ 39.,  67., 102.],\n",
              "        [ 30.,  57.,  91.]],\n",
              "\n",
              "       [[110., 142., 165.],\n",
              "        [110., 142., 165.],\n",
              "        [112., 143., 166.],\n",
              "        ...,\n",
              "        [ 26.,  51.,  88.],\n",
              "        [ 40.,  70., 105.],\n",
              "        [ 30.,  61.,  94.]],\n",
              "\n",
              "       [[111., 142., 166.],\n",
              "        [111., 144., 165.],\n",
              "        [109., 143., 165.],\n",
              "        ...,\n",
              "        [ 31.,  59.,  94.],\n",
              "        [ 32.,  68., 101.],\n",
              "        [ 30.,  64.,  98.]]], dtype=float32)"
            ]
          },
          "metadata": {
            "tags": []
          },
          "execution_count": 10
        }
      ]
    },
    {
      "cell_type": "code",
      "metadata": {
        "id": "O6K8LAtnKBCI"
      },
      "source": [
        ""
      ],
      "execution_count": null,
      "outputs": []
    }
  ]
}